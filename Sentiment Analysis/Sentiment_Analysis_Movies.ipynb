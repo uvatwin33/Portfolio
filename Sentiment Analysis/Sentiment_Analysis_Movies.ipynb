{
 "cells": [
  {
   "cell_type": "markdown",
   "id": "bd889f8f",
   "metadata": {},
   "source": [
    "# Sentiment Analysis: Classification Models & Clusters"
   ]
  },
  {
   "cell_type": "markdown",
   "id": "fc87e42e",
   "metadata": {},
   "source": [
    "# Please skip the preprocessing section & scroll down to the section 5.2 Exercise"
   ]
  },
  {
   "cell_type": "markdown",
   "id": "2410388c",
   "metadata": {},
   "source": [
    "## Part 1: Using the TextBlob Sentiment Analyzer"
   ]
  },
  {
   "cell_type": "code",
   "execution_count": 1,
   "id": "0cd82354",
   "metadata": {},
   "outputs": [],
   "source": [
    "# Import Pandas and Numby libraries\n",
    "import pandas as pd\n",
    "import numpy as np\n",
    "\n",
    "# import nltk library\n",
    "import nltk\n",
    "\n",
    "# Import textblob to perform sentiment analysis\n",
    "from textblob import TextBlob\n",
    "\n",
    "# import accuracy calculator from sklearn\n",
    "from sklearn.metrics import accuracy_score\n",
    "\n",
    "# Import Vader Sentiment Analyzer from the NLTK\n",
    "from nltk.sentiment.vader import SentimentIntensityAnalyzer"
   ]
  },
  {
   "cell_type": "code",
   "execution_count": 2,
   "id": "42eb2138",
   "metadata": {},
   "outputs": [],
   "source": [
    "# 1. Load the movie sentiment data\n",
    "df_mv = pd.read_csv('labeledTrainData.tsv', sep=\"\\t\")"
   ]
  },
  {
   "cell_type": "code",
   "execution_count": 3,
   "id": "c18211c9",
   "metadata": {},
   "outputs": [
    {
     "data": {
      "text/html": [
       "<div>\n",
       "<style scoped>\n",
       "    .dataframe tbody tr th:only-of-type {\n",
       "        vertical-align: middle;\n",
       "    }\n",
       "\n",
       "    .dataframe tbody tr th {\n",
       "        vertical-align: top;\n",
       "    }\n",
       "\n",
       "    .dataframe thead th {\n",
       "        text-align: right;\n",
       "    }\n",
       "</style>\n",
       "<table border=\"1\" class=\"dataframe\">\n",
       "  <thead>\n",
       "    <tr style=\"text-align: right;\">\n",
       "      <th></th>\n",
       "      <th>id</th>\n",
       "      <th>sentiment</th>\n",
       "      <th>review</th>\n",
       "    </tr>\n",
       "  </thead>\n",
       "  <tbody>\n",
       "    <tr>\n",
       "      <th>0</th>\n",
       "      <td>5814_8</td>\n",
       "      <td>1</td>\n",
       "      <td>With all this stuff going down at the moment w...</td>\n",
       "    </tr>\n",
       "    <tr>\n",
       "      <th>1</th>\n",
       "      <td>2381_9</td>\n",
       "      <td>1</td>\n",
       "      <td>\\The Classic War of the Worlds\\\" by Timothy Hi...</td>\n",
       "    </tr>\n",
       "    <tr>\n",
       "      <th>2</th>\n",
       "      <td>7759_3</td>\n",
       "      <td>0</td>\n",
       "      <td>The film starts with a manager (Nicholas Bell)...</td>\n",
       "    </tr>\n",
       "    <tr>\n",
       "      <th>3</th>\n",
       "      <td>3630_4</td>\n",
       "      <td>0</td>\n",
       "      <td>It must be assumed that those who praised this...</td>\n",
       "    </tr>\n",
       "    <tr>\n",
       "      <th>4</th>\n",
       "      <td>9495_8</td>\n",
       "      <td>1</td>\n",
       "      <td>Superbly trashy and wondrously unpretentious 8...</td>\n",
       "    </tr>\n",
       "  </tbody>\n",
       "</table>\n",
       "</div>"
      ],
      "text/plain": [
       "       id  sentiment                                             review\n",
       "0  5814_8          1  With all this stuff going down at the moment w...\n",
       "1  2381_9          1  \\The Classic War of the Worlds\\\" by Timothy Hi...\n",
       "2  7759_3          0  The film starts with a manager (Nicholas Bell)...\n",
       "3  3630_4          0  It must be assumed that those who praised this...\n",
       "4  9495_8          1  Superbly trashy and wondrously unpretentious 8..."
      ]
     },
     "execution_count": 3,
     "metadata": {},
     "output_type": "execute_result"
    }
   ],
   "source": [
    "# display the data\n",
    "df_mv.head()"
   ]
  },
  {
   "cell_type": "code",
   "execution_count": 4,
   "id": "1b5fb4f6",
   "metadata": {},
   "outputs": [
    {
     "data": {
      "text/plain": [
       "(25000, 3)"
      ]
     },
     "execution_count": 4,
     "metadata": {},
     "output_type": "execute_result"
    }
   ],
   "source": [
    "# View the data\n",
    "df_mv.shape"
   ]
  },
  {
   "cell_type": "code",
   "execution_count": 5,
   "id": "b8364704",
   "metadata": {},
   "outputs": [
    {
     "data": {
      "text/plain": [
       "0    12500\n",
       "1    12500\n",
       "Name: sentiment, dtype: int64"
      ]
     },
     "execution_count": 5,
     "metadata": {},
     "output_type": "execute_result"
    }
   ],
   "source": [
    "# 2. Count each positive and negative reviews.  There are 12,500 positive reviews and 12,500 negative reviews. \n",
    "\n",
    "df_mv['sentiment'].value_counts()"
   ]
  },
  {
   "cell_type": "code",
   "execution_count": 6,
   "id": "434ece9d",
   "metadata": {},
   "outputs": [
    {
     "data": {
      "text/html": [
       "<div>\n",
       "<style scoped>\n",
       "    .dataframe tbody tr th:only-of-type {\n",
       "        vertical-align: middle;\n",
       "    }\n",
       "\n",
       "    .dataframe tbody tr th {\n",
       "        vertical-align: top;\n",
       "    }\n",
       "\n",
       "    .dataframe thead th {\n",
       "        text-align: right;\n",
       "    }\n",
       "</style>\n",
       "<table border=\"1\" class=\"dataframe\">\n",
       "  <thead>\n",
       "    <tr style=\"text-align: right;\">\n",
       "      <th></th>\n",
       "      <th>id</th>\n",
       "      <th>sentiment</th>\n",
       "      <th>review</th>\n",
       "      <th>TextBlob_polarity</th>\n",
       "      <th>TextBlob_Sentiment</th>\n",
       "    </tr>\n",
       "  </thead>\n",
       "  <tbody>\n",
       "    <tr>\n",
       "      <th>0</th>\n",
       "      <td>5814_8</td>\n",
       "      <td>1</td>\n",
       "      <td>With all this stuff going down at the moment w...</td>\n",
       "      <td>0.001277</td>\n",
       "      <td>1</td>\n",
       "    </tr>\n",
       "    <tr>\n",
       "      <th>1</th>\n",
       "      <td>2381_9</td>\n",
       "      <td>1</td>\n",
       "      <td>\\The Classic War of the Worlds\\\" by Timothy Hi...</td>\n",
       "      <td>0.256349</td>\n",
       "      <td>1</td>\n",
       "    </tr>\n",
       "    <tr>\n",
       "      <th>2</th>\n",
       "      <td>7759_3</td>\n",
       "      <td>0</td>\n",
       "      <td>The film starts with a manager (Nicholas Bell)...</td>\n",
       "      <td>-0.053941</td>\n",
       "      <td>0</td>\n",
       "    </tr>\n",
       "    <tr>\n",
       "      <th>3</th>\n",
       "      <td>3630_4</td>\n",
       "      <td>0</td>\n",
       "      <td>It must be assumed that those who praised this...</td>\n",
       "      <td>0.134753</td>\n",
       "      <td>1</td>\n",
       "    </tr>\n",
       "    <tr>\n",
       "      <th>4</th>\n",
       "      <td>9495_8</td>\n",
       "      <td>1</td>\n",
       "      <td>Superbly trashy and wondrously unpretentious 8...</td>\n",
       "      <td>-0.024842</td>\n",
       "      <td>0</td>\n",
       "    </tr>\n",
       "  </tbody>\n",
       "</table>\n",
       "</div>"
      ],
      "text/plain": [
       "       id  sentiment                                             review  \\\n",
       "0  5814_8          1  With all this stuff going down at the moment w...   \n",
       "1  2381_9          1  \\The Classic War of the Worlds\\\" by Timothy Hi...   \n",
       "2  7759_3          0  The film starts with a manager (Nicholas Bell)...   \n",
       "3  3630_4          0  It must be assumed that those who praised this...   \n",
       "4  9495_8          1  Superbly trashy and wondrously unpretentious 8...   \n",
       "\n",
       "   TextBlob_polarity  TextBlob_Sentiment  \n",
       "0           0.001277                   1  \n",
       "1           0.256349                   1  \n",
       "2          -0.053941                   0  \n",
       "3           0.134753                   1  \n",
       "4          -0.024842                   0  "
      ]
     },
     "execution_count": 6,
     "metadata": {},
     "output_type": "execute_result"
    }
   ],
   "source": [
    "\n",
    "# 3. Classify each movie review as positive or negative\n",
    "\n",
    "## Create a function to get the polarity\n",
    "\n",
    "def getPolarity(text):\n",
    "    return TextBlob(text).sentiment.polarity\n",
    "\n",
    "## Create a new column 'TextBlob Polarity' \n",
    "df_mv['TextBlob_polarity'] = df_mv['review'].apply(getPolarity)\n",
    "#df_mv['TextBlob_sentiment'] = df_mv['sentiment'].apply(getPolarity)\n",
    "\n",
    "## Create a function to get the sentiment. A polarity score >- 0 is positive and less than 0 is a negative sentiment.\n",
    "def getAnalysis(score):\n",
    "    if score >= 0:\n",
    "        return '1'\n",
    "    elif score <= 0:\n",
    "        return '0'\n",
    "    else:\n",
    "        return '-1'\n",
    "## Create a new column 'TextBlob Sentiment'     \n",
    "df_mv['TextBlob_Sentiment'] = (df_mv['TextBlob_polarity'].apply(getAnalysis)).astype(int)\n",
    "\n",
    "## View the updted data frame\n",
    "df_mv.head()\n",
    "  "
   ]
  },
  {
   "cell_type": "code",
   "execution_count": 7,
   "id": "dbfaacb3",
   "metadata": {},
   "outputs": [
    {
     "name": "stdout",
     "output_type": "stream",
     "text": [
      "TextBlob Accuracy: 0.68524\n"
     ]
    }
   ],
   "source": [
    "# 4. Check the accuracy of the model.  This model appears to better than random guessing.\n",
    "\n",
    "TB_Acc = accuracy_score(df_mv['sentiment'], df_mv['TextBlob_Sentiment'])\n",
    "print('TextBlob Accuracy:', TB_Acc)"
   ]
  },
  {
   "cell_type": "code",
   "execution_count": 8,
   "id": "e5a3a32f",
   "metadata": {},
   "outputs": [],
   "source": [
    "# Import VADER Sentiment Analysis\n",
    "from nltk.sentiment.vader import SentimentIntensityAnalyzer\n"
   ]
  },
  {
   "cell_type": "code",
   "execution_count": 9,
   "id": "7c7d4916",
   "metadata": {},
   "outputs": [
    {
     "data": {
      "text/html": [
       "<div>\n",
       "<style scoped>\n",
       "    .dataframe tbody tr th:only-of-type {\n",
       "        vertical-align: middle;\n",
       "    }\n",
       "\n",
       "    .dataframe tbody tr th {\n",
       "        vertical-align: top;\n",
       "    }\n",
       "\n",
       "    .dataframe thead th {\n",
       "        text-align: right;\n",
       "    }\n",
       "</style>\n",
       "<table border=\"1\" class=\"dataframe\">\n",
       "  <thead>\n",
       "    <tr style=\"text-align: right;\">\n",
       "      <th></th>\n",
       "      <th>id</th>\n",
       "      <th>sentiment</th>\n",
       "      <th>review</th>\n",
       "      <th>TextBlob_polarity</th>\n",
       "      <th>TextBlob_Sentiment</th>\n",
       "      <th>Vader_polarity</th>\n",
       "      <th>Vader_MV_Sentiment</th>\n",
       "    </tr>\n",
       "  </thead>\n",
       "  <tbody>\n",
       "    <tr>\n",
       "      <th>0</th>\n",
       "      <td>5814_8</td>\n",
       "      <td>1</td>\n",
       "      <td>With all this stuff going down at the moment w...</td>\n",
       "      <td>0.001277</td>\n",
       "      <td>1</td>\n",
       "      <td>{'neg': 0.13, 'neu': 0.744, 'pos': 0.126, 'com...</td>\n",
       "      <td>0</td>\n",
       "    </tr>\n",
       "    <tr>\n",
       "      <th>1</th>\n",
       "      <td>2381_9</td>\n",
       "      <td>1</td>\n",
       "      <td>\\The Classic War of the Worlds\\\" by Timothy Hi...</td>\n",
       "      <td>0.256349</td>\n",
       "      <td>1</td>\n",
       "      <td>{'neg': 0.047, 'neu': 0.739, 'pos': 0.214, 'co...</td>\n",
       "      <td>1</td>\n",
       "    </tr>\n",
       "    <tr>\n",
       "      <th>2</th>\n",
       "      <td>7759_3</td>\n",
       "      <td>0</td>\n",
       "      <td>The film starts with a manager (Nicholas Bell)...</td>\n",
       "      <td>-0.053941</td>\n",
       "      <td>0</td>\n",
       "      <td>{'neg': 0.142, 'neu': 0.8, 'pos': 0.058, 'comp...</td>\n",
       "      <td>0</td>\n",
       "    </tr>\n",
       "    <tr>\n",
       "      <th>3</th>\n",
       "      <td>3630_4</td>\n",
       "      <td>0</td>\n",
       "      <td>It must be assumed that those who praised this...</td>\n",
       "      <td>0.134753</td>\n",
       "      <td>1</td>\n",
       "      <td>{'neg': 0.066, 'neu': 0.878, 'pos': 0.056, 'co...</td>\n",
       "      <td>0</td>\n",
       "    </tr>\n",
       "    <tr>\n",
       "      <th>4</th>\n",
       "      <td>9495_8</td>\n",
       "      <td>1</td>\n",
       "      <td>Superbly trashy and wondrously unpretentious 8...</td>\n",
       "      <td>-0.024842</td>\n",
       "      <td>0</td>\n",
       "      <td>{'neg': 0.119, 'neu': 0.741, 'pos': 0.14, 'com...</td>\n",
       "      <td>1</td>\n",
       "    </tr>\n",
       "  </tbody>\n",
       "</table>\n",
       "</div>"
      ],
      "text/plain": [
       "       id  sentiment                                             review  \\\n",
       "0  5814_8          1  With all this stuff going down at the moment w...   \n",
       "1  2381_9          1  \\The Classic War of the Worlds\\\" by Timothy Hi...   \n",
       "2  7759_3          0  The film starts with a manager (Nicholas Bell)...   \n",
       "3  3630_4          0  It must be assumed that those who praised this...   \n",
       "4  9495_8          1  Superbly trashy and wondrously unpretentious 8...   \n",
       "\n",
       "   TextBlob_polarity  TextBlob_Sentiment  \\\n",
       "0           0.001277                   1   \n",
       "1           0.256349                   1   \n",
       "2          -0.053941                   0   \n",
       "3           0.134753                   1   \n",
       "4          -0.024842                   0   \n",
       "\n",
       "                                      Vader_polarity  Vader_MV_Sentiment  \n",
       "0  {'neg': 0.13, 'neu': 0.744, 'pos': 0.126, 'com...                   0  \n",
       "1  {'neg': 0.047, 'neu': 0.739, 'pos': 0.214, 'co...                   1  \n",
       "2  {'neg': 0.142, 'neu': 0.8, 'pos': 0.058, 'comp...                   0  \n",
       "3  {'neg': 0.066, 'neu': 0.878, 'pos': 0.056, 'co...                   0  \n",
       "4  {'neg': 0.119, 'neu': 0.741, 'pos': 0.14, 'com...                   1  "
      ]
     },
     "execution_count": 9,
     "metadata": {},
     "output_type": "execute_result"
    }
   ],
   "source": [
    "# Initialize a SentimentIntensityAnalyzer object\n",
    "vds=SentimentIntensityAnalyzer()\n",
    "\n",
    "# 5. Define a function to perform the VADER sentiment analyzer and repeat steps 3) and 4) \n",
    "def VaderAnalyzer(text):\n",
    "    return vds.polarity_scores(text)\n",
    "    \n",
    "    # Create a score dict variable for the Vader Polarity scores \n",
    "    score_dict = vds.polarity_scores(score)\n",
    "\n",
    "## Create a column for Vader Polarity\n",
    "df_mv['Vader_polarity'] = df_mv['review'].apply(VaderAnalyzer)\n",
    "## Create a colunm for Vader Movie Review Sentiment \n",
    "df_mv['Vader_MV_Sentiment'] = df_mv['Vader_polarity'].apply(lambda score_dict: int(score_dict['compound'] >= 0 ))\n",
    "## Show the updated Movie Review data frame with the Vader Sentimeent Analysis\n",
    "df_mv.head()\n"
   ]
  },
  {
   "cell_type": "code",
   "execution_count": 10,
   "id": "1d569e6a",
   "metadata": {},
   "outputs": [
    {
     "name": "stdout",
     "output_type": "stream",
     "text": [
      "Vader Sentiment Accuracy: 0.69356\n"
     ]
    }
   ],
   "source": [
    "# 5.1 Find out the accuracy of the Vader Sentiment Analyzer\n",
    "vader_acc = accuracy_score(df_mv['sentiment'], df_mv['Vader_MV_Sentiment'])\n",
    "print('Vader Sentiment Accuracy:', vader_acc)"
   ]
  },
  {
   "cell_type": "code",
   "execution_count": 11,
   "id": "fc8a9660",
   "metadata": {},
   "outputs": [
    {
     "data": {
      "text/html": [
       "<div>\n",
       "<style scoped>\n",
       "    .dataframe tbody tr th:only-of-type {\n",
       "        vertical-align: middle;\n",
       "    }\n",
       "\n",
       "    .dataframe tbody tr th {\n",
       "        vertical-align: top;\n",
       "    }\n",
       "\n",
       "    .dataframe thead th {\n",
       "        text-align: right;\n",
       "    }\n",
       "</style>\n",
       "<table border=\"1\" class=\"dataframe\">\n",
       "  <thead>\n",
       "    <tr style=\"text-align: right;\">\n",
       "      <th></th>\n",
       "      <th>Model</th>\n",
       "      <th>Accuracy</th>\n",
       "    </tr>\n",
       "  </thead>\n",
       "  <tbody>\n",
       "    <tr>\n",
       "      <th>0</th>\n",
       "      <td>TextBlob</td>\n",
       "      <td>68.52%</td>\n",
       "    </tr>\n",
       "    <tr>\n",
       "      <th>1</th>\n",
       "      <td>Vader</td>\n",
       "      <td>69.36%</td>\n",
       "    </tr>\n",
       "  </tbody>\n",
       "</table>\n",
       "</div>"
      ],
      "text/plain": [
       "      Model Accuracy\n",
       "0  TextBlob   68.52%\n",
       "1     Vader   69.36%"
      ]
     },
     "execution_count": 11,
     "metadata": {},
     "output_type": "execute_result"
    }
   ],
   "source": [
    "# 5.2 Compare the results of the two models.  Based on the result, the Vader model seems is slightly more accurate.\n",
    "\n",
    "model= {'Model': ['TextBlob', 'Vader'], 'Accuracy': [str(round(100*TB_Acc,2))+'%', str(round(100*vader_acc,2))+'%']}\n",
    "df_model = pd.DataFrame(model)\n",
    "df_model"
   ]
  },
  {
   "cell_type": "markdown",
   "id": "ff013889",
   "metadata": {},
   "source": [
    "# Part 2: Prepping Text for a Custom Model"
   ]
  },
  {
   "cell_type": "code",
   "execution_count": 12,
   "id": "11a93ecd",
   "metadata": {},
   "outputs": [],
   "source": [
    "# Import Count Vectorizer from Sklearn library\n",
    "from sklearn.feature_extraction.text import CountVectorizer\n",
    "\n",
    "# Import regular expression library\n",
    "import re"
   ]
  },
  {
   "cell_type": "code",
   "execution_count": 13,
   "id": "b83b695f",
   "metadata": {},
   "outputs": [],
   "source": [
    "# 1 & 2: Convert all text to lowercase letters and remove punctuation/special characters from the text\n",
    "\n",
    "def clean_text(text):\n",
    "    # Convert all text to lowercase\n",
    "    text=text.lower()\n",
    "    # Remove punctuation and special characters from the text\n",
    "    text=re.sub('\\\\d|\\\\W+|_',' ',text)\n",
    "    text=re.sub('[^a-zA-Z0-9]',\" \", text)\n",
    "    \n",
    "    return text"
   ]
  },
  {
   "cell_type": "code",
   "execution_count": 14,
   "id": "1929ad55",
   "metadata": {},
   "outputs": [],
   "source": [
    "# 3: Remove Stop words\n",
    "\n",
    "## Load libraries\n",
    "import nltk\n",
    "from nltk.corpus import stopwords\n",
    "from nltk.tokenize import word_tokenize\n",
    "\n",
    "## Create a function to remove Stop Words\n",
    "def tokenize_remove_stop_words(text):\n",
    "\n",
    "    ## Load stop words\n",
    "    stop_words = stopwords.words('english')\n",
    "\n",
    "    ## Remove stop words\n",
    "    tokenized_text = word_tokenize(text)\n",
    "    text_sans_stopwords=[word for word in tokenized_text if word not in stop_words]\n",
    "    \n",
    "    return text_sans_stopwords\n",
    "    "
   ]
  },
  {
   "cell_type": "code",
   "execution_count": 15,
   "id": "5d21df6f",
   "metadata": {},
   "outputs": [],
   "source": [
    "# 4: Apply NLTK's PorterStemmer\n",
    "\n",
    "## Load PorterStemmer from NLTK library\n",
    "from nltk.stem.porter import PorterStemmer\n",
    "\n",
    "## Create a function to sted the words from the text\n",
    "def stemmer_text(word_list):\n",
    "    ## Create stemmer\n",
    "    porter = PorterStemmer()\n",
    "    \n",
    "    return [porter.stem(word) for word in word_list]\n"
   ]
  },
  {
   "cell_type": "code",
   "execution_count": 16,
   "id": "db6f7dfa",
   "metadata": {},
   "outputs": [
    {
     "data": {
      "text/html": [
       "<div>\n",
       "<style scoped>\n",
       "    .dataframe tbody tr th:only-of-type {\n",
       "        vertical-align: middle;\n",
       "    }\n",
       "\n",
       "    .dataframe tbody tr th {\n",
       "        vertical-align: top;\n",
       "    }\n",
       "\n",
       "    .dataframe thead th {\n",
       "        text-align: right;\n",
       "    }\n",
       "</style>\n",
       "<table border=\"1\" class=\"dataframe\">\n",
       "  <thead>\n",
       "    <tr style=\"text-align: right;\">\n",
       "      <th></th>\n",
       "      <th>sentiment</th>\n",
       "      <th>review</th>\n",
       "    </tr>\n",
       "  </thead>\n",
       "  <tbody>\n",
       "    <tr>\n",
       "      <th>0</th>\n",
       "      <td>1</td>\n",
       "      <td>With all this stuff going down at the moment w...</td>\n",
       "    </tr>\n",
       "    <tr>\n",
       "      <th>1</th>\n",
       "      <td>1</td>\n",
       "      <td>\\The Classic War of the Worlds\\\" by Timothy Hi...</td>\n",
       "    </tr>\n",
       "    <tr>\n",
       "      <th>2</th>\n",
       "      <td>0</td>\n",
       "      <td>The film starts with a manager (Nicholas Bell)...</td>\n",
       "    </tr>\n",
       "    <tr>\n",
       "      <th>3</th>\n",
       "      <td>0</td>\n",
       "      <td>It must be assumed that those who praised this...</td>\n",
       "    </tr>\n",
       "    <tr>\n",
       "      <th>4</th>\n",
       "      <td>1</td>\n",
       "      <td>Superbly trashy and wondrously unpretentious 8...</td>\n",
       "    </tr>\n",
       "  </tbody>\n",
       "</table>\n",
       "</div>"
      ],
      "text/plain": [
       "   sentiment                                             review\n",
       "0          1  With all this stuff going down at the moment w...\n",
       "1          1  \\The Classic War of the Worlds\\\" by Timothy Hi...\n",
       "2          0  The film starts with a manager (Nicholas Bell)...\n",
       "3          0  It must be assumed that those who praised this...\n",
       "4          1  Superbly trashy and wondrously unpretentious 8..."
      ]
     },
     "execution_count": 16,
     "metadata": {},
     "output_type": "execute_result"
    }
   ],
   "source": [
    "\n",
    "# Create a data frame only with reviews and sentiments\n",
    "df_mv_prep = pd.DataFrame(df_mv[['sentiment','review']])\n",
    "df_mv_prep.head()\n"
   ]
  },
  {
   "cell_type": "markdown",
   "id": "29dd4051",
   "metadata": {},
   "source": []
  },
  {
   "cell_type": "code",
   "execution_count": 17,
   "id": "f8993de7",
   "metadata": {},
   "outputs": [
    {
     "data": {
      "text/html": [
       "<div>\n",
       "<style scoped>\n",
       "    .dataframe tbody tr th:only-of-type {\n",
       "        vertical-align: middle;\n",
       "    }\n",
       "\n",
       "    .dataframe tbody tr th {\n",
       "        vertical-align: top;\n",
       "    }\n",
       "\n",
       "    .dataframe thead th {\n",
       "        text-align: right;\n",
       "    }\n",
       "</style>\n",
       "<table border=\"1\" class=\"dataframe\">\n",
       "  <thead>\n",
       "    <tr style=\"text-align: right;\">\n",
       "      <th></th>\n",
       "      <th>sentiment</th>\n",
       "      <th>review</th>\n",
       "      <th>review_clean_text</th>\n",
       "    </tr>\n",
       "  </thead>\n",
       "  <tbody>\n",
       "    <tr>\n",
       "      <th>0</th>\n",
       "      <td>1</td>\n",
       "      <td>With all this stuff going down at the moment w...</td>\n",
       "      <td>with all this stuff going down at the moment w...</td>\n",
       "    </tr>\n",
       "    <tr>\n",
       "      <th>1</th>\n",
       "      <td>1</td>\n",
       "      <td>\\The Classic War of the Worlds\\\" by Timothy Hi...</td>\n",
       "      <td>the classic war of the worlds by timothy hine...</td>\n",
       "    </tr>\n",
       "    <tr>\n",
       "      <th>2</th>\n",
       "      <td>0</td>\n",
       "      <td>The film starts with a manager (Nicholas Bell)...</td>\n",
       "      <td>the film starts with a manager nicholas bell g...</td>\n",
       "    </tr>\n",
       "    <tr>\n",
       "      <th>3</th>\n",
       "      <td>0</td>\n",
       "      <td>It must be assumed that those who praised this...</td>\n",
       "      <td>it must be assumed that those who praised this...</td>\n",
       "    </tr>\n",
       "    <tr>\n",
       "      <th>4</th>\n",
       "      <td>1</td>\n",
       "      <td>Superbly trashy and wondrously unpretentious 8...</td>\n",
       "      <td>superbly trashy and wondrously unpretentious  ...</td>\n",
       "    </tr>\n",
       "  </tbody>\n",
       "</table>\n",
       "</div>"
      ],
      "text/plain": [
       "   sentiment                                             review  \\\n",
       "0          1  With all this stuff going down at the moment w...   \n",
       "1          1  \\The Classic War of the Worlds\\\" by Timothy Hi...   \n",
       "2          0  The film starts with a manager (Nicholas Bell)...   \n",
       "3          0  It must be assumed that those who praised this...   \n",
       "4          1  Superbly trashy and wondrously unpretentious 8...   \n",
       "\n",
       "                                   review_clean_text  \n",
       "0  with all this stuff going down at the moment w...  \n",
       "1   the classic war of the worlds by timothy hine...  \n",
       "2  the film starts with a manager nicholas bell g...  \n",
       "3  it must be assumed that those who praised this...  \n",
       "4  superbly trashy and wondrously unpretentious  ...  "
      ]
     },
     "execution_count": 17,
     "metadata": {},
     "output_type": "execute_result"
    }
   ],
   "source": [
    "# 5. Create a bag-og-words matrix from your stemmed text (output from (4))\n",
    "\n",
    "## 5.1 Create a cleaned review text colunmn that has all lowercase words and all punctuations removed\n",
    "df_mv_prep['review_clean_text'] = df_mv_prep['review'].apply(clean_text)\n",
    "\n",
    "# View the cleaned text\n",
    "df_mv_prep.head()"
   ]
  },
  {
   "cell_type": "code",
   "execution_count": 18,
   "id": "cc680b14",
   "metadata": {},
   "outputs": [
    {
     "data": {
      "text/html": [
       "<div>\n",
       "<style scoped>\n",
       "    .dataframe tbody tr th:only-of-type {\n",
       "        vertical-align: middle;\n",
       "    }\n",
       "\n",
       "    .dataframe tbody tr th {\n",
       "        vertical-align: top;\n",
       "    }\n",
       "\n",
       "    .dataframe thead th {\n",
       "        text-align: right;\n",
       "    }\n",
       "</style>\n",
       "<table border=\"1\" class=\"dataframe\">\n",
       "  <thead>\n",
       "    <tr style=\"text-align: right;\">\n",
       "      <th></th>\n",
       "      <th>sentiment</th>\n",
       "      <th>review</th>\n",
       "      <th>review_clean_text</th>\n",
       "      <th>review_tokenized</th>\n",
       "    </tr>\n",
       "  </thead>\n",
       "  <tbody>\n",
       "    <tr>\n",
       "      <th>0</th>\n",
       "      <td>1</td>\n",
       "      <td>With all this stuff going down at the moment w...</td>\n",
       "      <td>with all this stuff going down at the moment w...</td>\n",
       "      <td>[stuff, going, moment, mj, started, listening,...</td>\n",
       "    </tr>\n",
       "    <tr>\n",
       "      <th>1</th>\n",
       "      <td>1</td>\n",
       "      <td>\\The Classic War of the Worlds\\\" by Timothy Hi...</td>\n",
       "      <td>the classic war of the worlds by timothy hine...</td>\n",
       "      <td>[classic, war, worlds, timothy, hines, enterta...</td>\n",
       "    </tr>\n",
       "    <tr>\n",
       "      <th>2</th>\n",
       "      <td>0</td>\n",
       "      <td>The film starts with a manager (Nicholas Bell)...</td>\n",
       "      <td>the film starts with a manager nicholas bell g...</td>\n",
       "      <td>[film, starts, manager, nicholas, bell, giving...</td>\n",
       "    </tr>\n",
       "    <tr>\n",
       "      <th>3</th>\n",
       "      <td>0</td>\n",
       "      <td>It must be assumed that those who praised this...</td>\n",
       "      <td>it must be assumed that those who praised this...</td>\n",
       "      <td>[must, assumed, praised, film, greatest, filme...</td>\n",
       "    </tr>\n",
       "    <tr>\n",
       "      <th>4</th>\n",
       "      <td>1</td>\n",
       "      <td>Superbly trashy and wondrously unpretentious 8...</td>\n",
       "      <td>superbly trashy and wondrously unpretentious  ...</td>\n",
       "      <td>[superbly, trashy, wondrously, unpretentious, ...</td>\n",
       "    </tr>\n",
       "  </tbody>\n",
       "</table>\n",
       "</div>"
      ],
      "text/plain": [
       "   sentiment                                             review  \\\n",
       "0          1  With all this stuff going down at the moment w...   \n",
       "1          1  \\The Classic War of the Worlds\\\" by Timothy Hi...   \n",
       "2          0  The film starts with a manager (Nicholas Bell)...   \n",
       "3          0  It must be assumed that those who praised this...   \n",
       "4          1  Superbly trashy and wondrously unpretentious 8...   \n",
       "\n",
       "                                   review_clean_text  \\\n",
       "0  with all this stuff going down at the moment w...   \n",
       "1   the classic war of the worlds by timothy hine...   \n",
       "2  the film starts with a manager nicholas bell g...   \n",
       "3  it must be assumed that those who praised this...   \n",
       "4  superbly trashy and wondrously unpretentious  ...   \n",
       "\n",
       "                                    review_tokenized  \n",
       "0  [stuff, going, moment, mj, started, listening,...  \n",
       "1  [classic, war, worlds, timothy, hines, enterta...  \n",
       "2  [film, starts, manager, nicholas, bell, giving...  \n",
       "3  [must, assumed, praised, film, greatest, filme...  \n",
       "4  [superbly, trashy, wondrously, unpretentious, ...  "
      ]
     },
     "execution_count": 18,
     "metadata": {},
     "output_type": "execute_result"
    }
   ],
   "source": [
    "## 5.2 Tokenize the review text \n",
    "df_mv_prep['review_tokenized'] = df_mv_prep['review_clean_text'].apply(tokenize_remove_stop_words)\n",
    "\n",
    "## View the tokenized text\n",
    "df_mv_prep.head()"
   ]
  },
  {
   "cell_type": "code",
   "execution_count": 19,
   "id": "48cee77b",
   "metadata": {},
   "outputs": [
    {
     "data": {
      "text/html": [
       "<div>\n",
       "<style scoped>\n",
       "    .dataframe tbody tr th:only-of-type {\n",
       "        vertical-align: middle;\n",
       "    }\n",
       "\n",
       "    .dataframe tbody tr th {\n",
       "        vertical-align: top;\n",
       "    }\n",
       "\n",
       "    .dataframe thead th {\n",
       "        text-align: right;\n",
       "    }\n",
       "</style>\n",
       "<table border=\"1\" class=\"dataframe\">\n",
       "  <thead>\n",
       "    <tr style=\"text-align: right;\">\n",
       "      <th></th>\n",
       "      <th>sentiment</th>\n",
       "      <th>review</th>\n",
       "      <th>review_clean_text</th>\n",
       "      <th>review_tokenized</th>\n",
       "      <th>review_stem</th>\n",
       "    </tr>\n",
       "  </thead>\n",
       "  <tbody>\n",
       "    <tr>\n",
       "      <th>0</th>\n",
       "      <td>1</td>\n",
       "      <td>With all this stuff going down at the moment w...</td>\n",
       "      <td>with all this stuff going down at the moment w...</td>\n",
       "      <td>[stuff, going, moment, mj, started, listening,...</td>\n",
       "      <td>[stuff, go, moment, mj, start, listen, music, ...</td>\n",
       "    </tr>\n",
       "    <tr>\n",
       "      <th>1</th>\n",
       "      <td>1</td>\n",
       "      <td>\\The Classic War of the Worlds\\\" by Timothy Hi...</td>\n",
       "      <td>the classic war of the worlds by timothy hine...</td>\n",
       "      <td>[classic, war, worlds, timothy, hines, enterta...</td>\n",
       "      <td>[classic, war, world, timothi, hine, entertain...</td>\n",
       "    </tr>\n",
       "    <tr>\n",
       "      <th>2</th>\n",
       "      <td>0</td>\n",
       "      <td>The film starts with a manager (Nicholas Bell)...</td>\n",
       "      <td>the film starts with a manager nicholas bell g...</td>\n",
       "      <td>[film, starts, manager, nicholas, bell, giving...</td>\n",
       "      <td>[film, start, manag, nichola, bell, give, welc...</td>\n",
       "    </tr>\n",
       "    <tr>\n",
       "      <th>3</th>\n",
       "      <td>0</td>\n",
       "      <td>It must be assumed that those who praised this...</td>\n",
       "      <td>it must be assumed that those who praised this...</td>\n",
       "      <td>[must, assumed, praised, film, greatest, filme...</td>\n",
       "      <td>[must, assum, prais, film, greatest, film, ope...</td>\n",
       "    </tr>\n",
       "    <tr>\n",
       "      <th>4</th>\n",
       "      <td>1</td>\n",
       "      <td>Superbly trashy and wondrously unpretentious 8...</td>\n",
       "      <td>superbly trashy and wondrously unpretentious  ...</td>\n",
       "      <td>[superbly, trashy, wondrously, unpretentious, ...</td>\n",
       "      <td>[superbl, trashi, wondrous, unpretenti, exploi...</td>\n",
       "    </tr>\n",
       "  </tbody>\n",
       "</table>\n",
       "</div>"
      ],
      "text/plain": [
       "   sentiment                                             review  \\\n",
       "0          1  With all this stuff going down at the moment w...   \n",
       "1          1  \\The Classic War of the Worlds\\\" by Timothy Hi...   \n",
       "2          0  The film starts with a manager (Nicholas Bell)...   \n",
       "3          0  It must be assumed that those who praised this...   \n",
       "4          1  Superbly trashy and wondrously unpretentious 8...   \n",
       "\n",
       "                                   review_clean_text  \\\n",
       "0  with all this stuff going down at the moment w...   \n",
       "1   the classic war of the worlds by timothy hine...   \n",
       "2  the film starts with a manager nicholas bell g...   \n",
       "3  it must be assumed that those who praised this...   \n",
       "4  superbly trashy and wondrously unpretentious  ...   \n",
       "\n",
       "                                    review_tokenized  \\\n",
       "0  [stuff, going, moment, mj, started, listening,...   \n",
       "1  [classic, war, worlds, timothy, hines, enterta...   \n",
       "2  [film, starts, manager, nicholas, bell, giving...   \n",
       "3  [must, assumed, praised, film, greatest, filme...   \n",
       "4  [superbly, trashy, wondrously, unpretentious, ...   \n",
       "\n",
       "                                         review_stem  \n",
       "0  [stuff, go, moment, mj, start, listen, music, ...  \n",
       "1  [classic, war, world, timothi, hine, entertain...  \n",
       "2  [film, start, manag, nichola, bell, give, welc...  \n",
       "3  [must, assum, prais, film, greatest, film, ope...  \n",
       "4  [superbl, trashi, wondrous, unpretenti, exploi...  "
      ]
     },
     "execution_count": 19,
     "metadata": {},
     "output_type": "execute_result"
    }
   ],
   "source": [
    "## 5.3 Apply PorterStemmer function\n",
    "df_mv_prep['review_stem'] = df_mv_prep['review_tokenized'].apply(stemmer_text)\n",
    "\n",
    "# View the stemmed text\n",
    "df_mv_prep.head()"
   ]
  },
  {
   "cell_type": "code",
   "execution_count": 237,
   "id": "0e3432cd",
   "metadata": {},
   "outputs": [
    {
     "data": {
      "text/html": [
       "<div>\n",
       "<style scoped>\n",
       "    .dataframe tbody tr th:only-of-type {\n",
       "        vertical-align: middle;\n",
       "    }\n",
       "\n",
       "    .dataframe tbody tr th {\n",
       "        vertical-align: top;\n",
       "    }\n",
       "\n",
       "    .dataframe thead th {\n",
       "        text-align: right;\n",
       "    }\n",
       "</style>\n",
       "<table border=\"1\" class=\"dataframe\">\n",
       "  <thead>\n",
       "    <tr style=\"text-align: right;\">\n",
       "      <th></th>\n",
       "      <th>sentiment</th>\n",
       "      <th>review</th>\n",
       "      <th>review_clean_text</th>\n",
       "      <th>review_tokenized</th>\n",
       "      <th>review_stem</th>\n",
       "      <th>review_final</th>\n",
       "    </tr>\n",
       "  </thead>\n",
       "  <tbody>\n",
       "    <tr>\n",
       "      <th>0</th>\n",
       "      <td>1</td>\n",
       "      <td>With all this stuff going down at the moment w...</td>\n",
       "      <td>with all this stuff going down at the moment w...</td>\n",
       "      <td>[stuff, going, moment, mj, started, listening,...</td>\n",
       "      <td>[stuff, go, moment, mj, start, listen, music, ...</td>\n",
       "      <td>stuff go moment mj start listen music watch od...</td>\n",
       "    </tr>\n",
       "    <tr>\n",
       "      <th>1</th>\n",
       "      <td>1</td>\n",
       "      <td>\\The Classic War of the Worlds\\\" by Timothy Hi...</td>\n",
       "      <td>the classic war of the worlds by timothy hine...</td>\n",
       "      <td>[classic, war, worlds, timothy, hines, enterta...</td>\n",
       "      <td>[classic, war, world, timothi, hine, entertain...</td>\n",
       "      <td>classic war world timothi hine entertain film ...</td>\n",
       "    </tr>\n",
       "    <tr>\n",
       "      <th>2</th>\n",
       "      <td>0</td>\n",
       "      <td>The film starts with a manager (Nicholas Bell)...</td>\n",
       "      <td>the film starts with a manager nicholas bell g...</td>\n",
       "      <td>[film, starts, manager, nicholas, bell, giving...</td>\n",
       "      <td>[film, start, manag, nichola, bell, give, welc...</td>\n",
       "      <td>film start manag nichola bell give welcom inve...</td>\n",
       "    </tr>\n",
       "    <tr>\n",
       "      <th>3</th>\n",
       "      <td>0</td>\n",
       "      <td>It must be assumed that those who praised this...</td>\n",
       "      <td>it must be assumed that those who praised this...</td>\n",
       "      <td>[must, assumed, praised, film, greatest, filme...</td>\n",
       "      <td>[must, assum, prais, film, greatest, film, ope...</td>\n",
       "      <td>must assum prais film greatest film opera ever...</td>\n",
       "    </tr>\n",
       "    <tr>\n",
       "      <th>4</th>\n",
       "      <td>1</td>\n",
       "      <td>Superbly trashy and wondrously unpretentious 8...</td>\n",
       "      <td>superbly trashy and wondrously unpretentious  ...</td>\n",
       "      <td>[superbly, trashy, wondrously, unpretentious, ...</td>\n",
       "      <td>[superbl, trashi, wondrous, unpretenti, exploi...</td>\n",
       "      <td>superbl trashi wondrous unpretenti exploit hoo...</td>\n",
       "    </tr>\n",
       "  </tbody>\n",
       "</table>\n",
       "</div>"
      ],
      "text/plain": [
       "   sentiment                                             review  \\\n",
       "0          1  With all this stuff going down at the moment w...   \n",
       "1          1  \\The Classic War of the Worlds\\\" by Timothy Hi...   \n",
       "2          0  The film starts with a manager (Nicholas Bell)...   \n",
       "3          0  It must be assumed that those who praised this...   \n",
       "4          1  Superbly trashy and wondrously unpretentious 8...   \n",
       "\n",
       "                                   review_clean_text  \\\n",
       "0  with all this stuff going down at the moment w...   \n",
       "1   the classic war of the worlds by timothy hine...   \n",
       "2  the film starts with a manager nicholas bell g...   \n",
       "3  it must be assumed that those who praised this...   \n",
       "4  superbly trashy and wondrously unpretentious  ...   \n",
       "\n",
       "                                    review_tokenized  \\\n",
       "0  [stuff, going, moment, mj, started, listening,...   \n",
       "1  [classic, war, worlds, timothy, hines, enterta...   \n",
       "2  [film, starts, manager, nicholas, bell, giving...   \n",
       "3  [must, assumed, praised, film, greatest, filme...   \n",
       "4  [superbly, trashy, wondrously, unpretentious, ...   \n",
       "\n",
       "                                         review_stem  \\\n",
       "0  [stuff, go, moment, mj, start, listen, music, ...   \n",
       "1  [classic, war, world, timothi, hine, entertain...   \n",
       "2  [film, start, manag, nichola, bell, give, welc...   \n",
       "3  [must, assum, prais, film, greatest, film, ope...   \n",
       "4  [superbl, trashi, wondrous, unpretenti, exploi...   \n",
       "\n",
       "                                        review_final  \n",
       "0  stuff go moment mj start listen music watch od...  \n",
       "1  classic war world timothi hine entertain film ...  \n",
       "2  film start manag nichola bell give welcom inve...  \n",
       "3  must assum prais film greatest film opera ever...  \n",
       "4  superbl trashi wondrous unpretenti exploit hoo...  "
      ]
     },
     "execution_count": 237,
     "metadata": {},
     "output_type": "execute_result"
    }
   ],
   "source": [
    "## 5.4 Join the final colunm to the rest of the data frame created\n",
    "df_mv_prep['review_final'] = df_mv_prep['review_stem'].apply(lambda text: ' '.join(text))\n",
    "\n",
    "# View the preprocessed text\n",
    "df_mv_prep.head()"
   ]
  },
  {
   "cell_type": "code",
   "execution_count": 238,
   "id": "743b20ed",
   "metadata": {},
   "outputs": [
    {
     "data": {
      "text/plain": [
       "(25000, 49638)"
      ]
     },
     "execution_count": 238,
     "metadata": {},
     "output_type": "execute_result"
    }
   ],
   "source": [
    "## 5.5 Create a bag-of-words feature matrix to see if the number of rows is the same as the original data frame.\n",
    "count = CountVectorizer()\n",
    "bag_of_words = count.fit_transform(df_mv_prep['review_final'])\n",
    "\n",
    "# Display shape of the feature matrix output\n",
    "bag_of_words.shape"
   ]
  },
  {
   "cell_type": "markdown",
   "id": "daed08c1",
   "metadata": {},
   "source": [
    "# 5.2 Exercise: Build Your Own Sentiment Analysis Model"
   ]
  },
  {
   "cell_type": "code",
   "execution_count": 239,
   "id": "d63401da",
   "metadata": {},
   "outputs": [],
   "source": [
    "# Import Sklearn libraries\n",
    "import sklearn\n",
    "from sklearn.preprocessing import StandardScaler\n",
    "from sklearn.linear_model import LogisticRegression\n",
    "from sklearn.model_selection import train_test_split\n",
    "from sklearn import metrics\n",
    "from sklearn import preprocessing\n",
    "import matplotlib.pyplot as plt"
   ]
  },
  {
   "cell_type": "code",
   "execution_count": 275,
   "id": "27ee8f96",
   "metadata": {},
   "outputs": [
    {
     "data": {
      "text/plain": [
       "0    stuff go moment mj start listen music watch od...\n",
       "1    classic war world timothi hine entertain film ...\n",
       "2    film start manag nichola bell give welcom inve...\n",
       "3    must assum prais film greatest film opera ever...\n",
       "4    superbl trashi wondrous unpretenti exploit hoo...\n",
       "5    dont know peopl think bad movi got pretti good...\n",
       "6    movi could good come way short cheesi special ...\n",
       "7    watch video friend hous glad wast money buy on...\n",
       "8    friend mine bought film even grossli overpr de...\n",
       "9    br br movi full refer like mad max ii wild one...\n",
       "Name: review_final, dtype: object"
      ]
     },
     "execution_count": 275,
     "metadata": {},
     "output_type": "execute_result"
    }
   ],
   "source": [
    "# 1. Create a data frame only with reviews and sentiments\n",
    "df_review = pd.DataFrame(df_mv_prep[['sentiment','review_final']])\n",
    "df_review['review_final'].head(10)"
   ]
  },
  {
   "cell_type": "code",
   "execution_count": 302,
   "id": "69fc5575",
   "metadata": {},
   "outputs": [
    {
     "data": {
      "text/plain": [
       "count                                                 25000\n",
       "unique                                                24901\n",
       "top       realiz watch exact show eight year right could...\n",
       "freq                                                      3\n",
       "Name: review_final, dtype: object"
      ]
     },
     "execution_count": 302,
     "metadata": {},
     "output_type": "execute_result"
    }
   ],
   "source": [
    "# 1a. Find the descriptions of the preprocessed column 'reviw_final'\n",
    "df_review['review_final'].describe()"
   ]
  },
  {
   "cell_type": "code",
   "execution_count": 276,
   "id": "89440c85",
   "metadata": {},
   "outputs": [],
   "source": [
    "# 1b. Split the features and target\n",
    "X = df_review.drop(['sentiment'], axis =1)\n",
    "y = df_review['sentiment']"
   ]
  },
  {
   "cell_type": "code",
   "execution_count": 284,
   "id": "9eb65a11",
   "metadata": {},
   "outputs": [],
   "source": [
    "# 2. Split this into a training and test set\n",
    "X_train, X_test, y_train, y_test = train_test_split(df_review['review_final'], y, test_size = 0.2, random_state=42, stratify=y)"
   ]
  },
  {
   "cell_type": "code",
   "execution_count": 285,
   "id": "ab91a4e1",
   "metadata": {},
   "outputs": [],
   "source": [
    "# Create a term frequencey-inverse document frequency (tf-idf) matrix from your stemmed text.\n",
    "\n",
    "# Load TfidfVectorizer libary\n",
    "from sklearn.feature_extraction.text import TfidfVectorizer\n",
    "\n",
    "# Initialize Tfidf Vetorizer\n",
    "tfidf = TfidfVectorizer()\n",
    "\n",
    "\n",
    "# 3. Fit and apply the tfidf vector to the Training set\n",
    "tf_X_train = tfidf.fit_transform(X_train)\n",
    "\n",
    "# 4. Trainsform the test set ONLY.\n",
    "tf_X_test = tfidf.transform(X_test)\n",
    "\n",
    "\n",
    "# 4a. Why NOT FIT the if-idf vectorization to the test set?\n",
    "'''\n",
    "If we use the fit_transform method on our test data, we will compute a new mean and variance, which will be a new scale \n",
    "for each feature, while leting our model learn about our test data. Thus, what is unknown to our model will \n",
    "no longer be surprising, and we will not get a good estimate of how our model is performing on the test's \n",
    "unseen data.\n",
    "'''"
   ]
  },
  {
   "cell_type": "code",
   "execution_count": 286,
   "id": "27359f18",
   "metadata": {},
   "outputs": [
    {
     "data": {
      "text/plain": [
       "LogisticRegression()"
      ]
     },
     "execution_count": 286,
     "metadata": {},
     "output_type": "execute_result"
    }
   ],
   "source": [
    "# 5. Train a logistic regression using the trainng data\n",
    "\n",
    "from sklearn.linear_model import LogisticRegression\n",
    "LogReg = LogisticRegression()\n",
    "LogReg.fit(tf_X_train, y_train)"
   ]
  },
  {
   "cell_type": "code",
   "execution_count": 287,
   "id": "2b6756db",
   "metadata": {},
   "outputs": [
    {
     "data": {
      "text/plain": [
       "0    12500\n",
       "1    12500\n",
       "Name: sentiment, dtype: int64"
      ]
     },
     "execution_count": 287,
     "metadata": {},
     "output_type": "execute_result"
    }
   ],
   "source": [
    "# 5a. Find the count of the  sentiment field\n",
    "df_review['sentiment'].value_counts()"
   ]
  },
  {
   "cell_type": "code",
   "execution_count": 301,
   "id": "46beb674",
   "metadata": {},
   "outputs": [
    {
     "name": "stdout",
     "output_type": "stream",
     "text": [
      "Accuracy:  0.8892\n"
     ]
    }
   ],
   "source": [
    "# 5b. Predict the Test results\n",
    "\n",
    "y_test_pred = LogReg.predict(tf_X_test)\n",
    "print('Accuracy: ', LogReg.score(tf_X_test, y_test))\n",
    "     \n"
   ]
  },
  {
   "cell_type": "code",
   "execution_count": 292,
   "id": "147b0b08",
   "metadata": {},
   "outputs": [
    {
     "name": "stdout",
     "output_type": "stream",
     "text": [
      "The test score of the model is:  0.8892\n"
     ]
    }
   ],
   "source": [
    "# 6. Find the model accuracy on the test set\n",
    "Log_test_score = LogReg.score(tf_X_test, y_test)\n",
    "print(\"The test score of the model is: \", Log_test_score)"
   ]
  },
  {
   "cell_type": "code",
   "execution_count": 291,
   "id": "7026891f",
   "metadata": {},
   "outputs": [
    {
     "name": "stdout",
     "output_type": "stream",
     "text": [
      "The training score of the model is:  0.9286\n"
     ]
    }
   ],
   "source": [
    "# 6a. Find the model accuracy on the train set  \n",
    "Log_train_score = LogReg.score(tf_X_train, y_train)\n",
    "print(\"The training score of the model is: \", Log_train_score)"
   ]
  },
  {
   "cell_type": "code",
   "execution_count": 293,
   "id": "90663bca",
   "metadata": {},
   "outputs": [
    {
     "name": "stdout",
     "output_type": "stream",
     "text": [
      "[[2187  313]\n",
      " [ 241 2259]]\n"
     ]
    }
   ],
   "source": [
    "# 7. Create a Confusion Matrix for the test set predictions\n",
    "from sklearn.metrics import confusion_matrix\n",
    "confusion_matrix = confusion_matrix(y_test, y_test_pred)\n",
    "print(confusion_matrix)"
   ]
  },
  {
   "cell_type": "code",
   "execution_count": 315,
   "id": "2f21e418",
   "metadata": {},
   "outputs": [
    {
     "data": {
      "text/plain": [
       "0.8892"
      ]
     },
     "execution_count": 315,
     "metadata": {},
     "output_type": "execute_result"
    }
   ],
   "source": [
    "# 7a. A model accuracy from the confusion matrix to validate \n",
    "(2187+2259)/(313+241+2187+2259)"
   ]
  },
  {
   "cell_type": "code",
   "execution_count": 296,
   "id": "d6d0b500",
   "metadata": {},
   "outputs": [
    {
     "name": "stdout",
     "output_type": "stream",
     "text": [
      "              precision    recall  f1-score   support\n",
      "\n",
      "           0       0.90      0.87      0.89      2500\n",
      "           1       0.88      0.90      0.89      2500\n",
      "\n",
      "    accuracy                           0.89      5000\n",
      "   macro avg       0.89      0.89      0.89      5000\n",
      "weighted avg       0.89      0.89      0.89      5000\n",
      "\n"
     ]
    }
   ],
   "source": [
    "# 8. Calculate Precision, Recall, F1-Score & Support\n",
    "y_pred =LogReg.predict(tf_X_test)\n",
    "from sklearn.metrics import classification_report\n",
    "\n",
    "print(classification_report(y_test, y_test_pred))"
   ]
  },
  {
   "cell_type": "code",
   "execution_count": 303,
   "id": "36a4883e",
   "metadata": {},
   "outputs": [],
   "source": [
    "# import libraries to plot a ROC curve\n",
    "from sklearn import metrics\n",
    "import matplotlib.pyplot as plt"
   ]
  },
  {
   "cell_type": "code",
   "execution_count": 306,
   "id": "4b24388a",
   "metadata": {},
   "outputs": [],
   "source": [
    "# 9. Define metrics and Create a ROC curve for the test set\n",
    "y_pred_proba = LogReg.predict_proba(tf_X_test)[::,1]\n",
    "fpr, tpr, _ = metrics.roc_curve(y_test,  y_pred_proba)\n",
    "auc = metrics.roc_auc_score(y_test, y_pred_proba)"
   ]
  },
  {
   "cell_type": "code",
   "execution_count": 307,
   "id": "9933156f",
   "metadata": {},
   "outputs": [
    {
     "data": {
      "image/png": "[encoded data removed]",
      "text/plain": [
       "<Figure size 432x288 with 1 Axes>"
      ]
     },
     "metadata": {
      "needs_background": "light"
     },
     "output_type": "display_data"
    }
   ],
   "source": [
    "# 9a. Create ROC curve for the test set\n",
    "plt.plot(fpr,tpr,label=\"AUC=\"+str(auc))\n",
    "plt.ylabel('True Positive Rate')\n",
    "plt.xlabel('False Positive Rate')\n",
    "plt.legend(loc=4)\n",
    "plt.show()"
   ]
  },
  {
   "cell_type": "markdown",
   "id": "41e52237",
   "metadata": {},
   "source": [
    "# 10. Applying a Naive Bayes Model to the Steps (5)-(9)"
   ]
  },
  {
   "cell_type": "code",
   "execution_count": 308,
   "id": "36d6c849",
   "metadata": {},
   "outputs": [],
   "source": [
    "# 10. Import library for Naive Bayes\n",
    "from sklearn.naive_bayes import MultinomialNB"
   ]
  },
  {
   "cell_type": "code",
   "execution_count": 309,
   "id": "c961d61c",
   "metadata": {},
   "outputs": [
    {
     "data": {
      "text/plain": [
       "MultinomialNB()"
      ]
     },
     "execution_count": 309,
     "metadata": {},
     "output_type": "execute_result"
    }
   ],
   "source": [
    "# Build naive bayes classification model using the train data\n",
    "naive_bayes_classifier = MultinomialNB()\n",
    "naive_bayes_classifier.fit(tf_X_train, y_train)"
   ]
  },
  {
   "cell_type": "code",
   "execution_count": 319,
   "id": "d43405d6",
   "metadata": {},
   "outputs": [
    {
     "name": "stdout",
     "output_type": "stream",
     "text": [
      "accuracy:   0.861\n",
      "              precision    recall  f1-score   support\n",
      "\n",
      "    Positive       0.86      0.87      0.86      2500\n",
      "    Negative       0.87      0.85      0.86      2500\n",
      "\n",
      "    accuracy                           0.86      5000\n",
      "   macro avg       0.86      0.86      0.86      5000\n",
      "weighted avg       0.86      0.86      0.86      5000\n",
      "\n",
      "confusion matrix:\n",
      "[[2168  332]\n",
      " [ 364 2136]]\n",
      "------------------------------\n"
     ]
    }
   ],
   "source": [
    "# Predict the new document from the testing dataset\n",
    "\n",
    "y_pred_nv = naive_bayes_classifier.predict(tf_X_test)\n",
    "\n",
    "# Compute the performance measures  \n",
    "naive_score = metrics.accuracy_score(y_test, y_pred_nv)\n",
    "\n",
    "# Find the accuracy on the test set and \n",
    "print(\"accuracy:   %0.3f\" % naive_score)\n",
    "\n",
    "print(metrics.classification_report(y_test, y_pred_nv,\n",
    "                                            target_names=['Positive', 'Negative']))\n",
    "# Find and Create a Confusion Matrix for the test set predictions.  And get the precision, recall, and F1-Score\n",
    "# for the test set predictions\n",
    "\n",
    "print(\"confusion matrix:\")\n",
    "print(metrics.confusion_matrix(y_test, y_pred_nv))\n",
    "\n",
    "print('------------------------------')"
   ]
  },
  {
   "cell_type": "code",
   "execution_count": 316,
   "id": "30ec4712",
   "metadata": {},
   "outputs": [
    {
     "data": {
      "text/plain": [
       "0.8608"
      ]
     },
     "execution_count": 316,
     "metadata": {},
     "output_type": "execute_result"
    }
   ],
   "source": [
    "# The Naive Bayes Accuracy from the confusion matrix to validate\n",
    "(2168+2136)/(332+364+2168+2136)"
   ]
  },
  {
   "cell_type": "code",
   "execution_count": 313,
   "id": "f73fba25",
   "metadata": {},
   "outputs": [],
   "source": [
    "# Define metrics for the Naive Bayes Classifier\n",
    "y_pred_proba1 = naive_bayes_classifier.predict_proba(tf_X_test)[::,1]\n",
    "fpr, tpr, _ = metrics.roc_curve(y_test,  y_pred_proba1)\n",
    "auc = metrics.roc_auc_score(y_test, y_pred_proba1)"
   ]
  },
  {
   "cell_type": "code",
   "execution_count": 314,
   "id": "eb168f48",
   "metadata": {},
   "outputs": [
    {
     "data": {
      "image/png": "[encoded data removed]",
      "text/plain": [
       "<Figure size 432x288 with 1 Axes>"
      ]
     },
     "metadata": {
      "needs_background": "light"
     },
     "output_type": "display_data"
    }
   ],
   "source": [
    "# Create ROC curve for the Naive Bayes Classifier\n",
    "plt.plot(fpr,tpr,label=\"AUC=\"+str(auc))\n",
    "plt.ylabel('True Positive Rate')\n",
    "plt.xlabel('False Positive Rate')\n",
    "plt.legend(loc=4)\n",
    "plt.show()"
   ]
  }
 ],
 "metadata": {
  "kernelspec": {
   "display_name": "Python 3 (ipykernel)",
   "language": "python",
   "name": "python3"
  },
  "language_info": {
   "codemirror_mode": {
    "name": "ipython",
    "version": 3
   },
   "file_extension": ".py",
   "mimetype": "text/x-python",
   "name": "python",
   "nbconvert_exporter": "python",
   "pygments_lexer": "ipython3",
   "version": "3.9.12"
  }
 },
 "nbformat": 4,
 "nbformat_minor": 5
}
