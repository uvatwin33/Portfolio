{
  "cells": [
    {
      "cell_type": "markdown",
      "source": [
        "# MLB Advanced Data Sans WAR Analysis"
      ],
      "metadata": {
        "id": "egdbQZTGK-ge"
      }
    },
    {
      "cell_type": "code",
      "execution_count": 1,
      "metadata": {
        "id": "2hID2ShemCOR"
      },
      "outputs": [],
      "source": [
        "# Load necessary packages\n",
        "import pandas as pd\n",
        "import numpy as np\n",
        "import matplotlib.pyplot as plt\n",
        "import seaborn as sns\n",
        "\n",
        "# sklearn pre-processing & model selection\n",
        "from sklearn.decomposition import PCA\n",
        "from sklearn.preprocessing import StandardScaler\n",
        "from sklearn.model_selection import cross_val_score\n",
        "from sklearn.model_selection import train_test_split\n",
        "from sklearn.model_selection import learning_curve, validation_curve\n",
        "from sklearn.pipeline import Pipeline\n",
        "from sklearn import metrics\n",
        "from sklearn.tree import DecisionTreeClassifier\n",
        "from sklearn.ensemble import RandomForestClassifier, AdaBoostClassifier, GradientBoostingClassifier\n",
        "from sklearn.linear_model import LogisticRegression\n",
        "from sklearn.svm import SVC\n",
        "\n",
        "# ignore warnings\n",
        "import warnings\n",
        "warnings.filterwarnings(\"ignore\")"
      ]
    },
    {
      "cell_type": "code",
      "execution_count": 2,
      "metadata": {
        "id": "s4E-EJns6T14",
        "colab": {
          "base_uri": "https://localhost:8080/"
        },
        "outputId": "33036613-864a-49a0-a40b-2085cf689931"
      },
      "outputs": [
        {
          "output_type": "stream",
          "name": "stdout",
          "text": [
            "Mounted at /content/drive\n"
          ]
        }
      ],
      "source": [
        "from google.colab import drive\n",
        "drive.mount('/content/drive')"
      ]
    },
    {
      "cell_type": "code",
      "execution_count": 3,
      "metadata": {
        "id": "ERAFx7dV5CWx"
      },
      "outputs": [],
      "source": [
        "import os\n",
        "os.chdir(r\"/content/drive/My Drive/DSC680\")"
      ]
    },
    {
      "cell_type": "code",
      "source": [
        "# Import baseball data to DataFrames\n",
        "import os\n",
        "import pandas as pd\n",
        "\n",
        "#path=\"/content/drive/MyDrive/DSC680/People.csv\"\n",
        "# Read in the CSV\n",
        "\n",
        "df_hitters = pd.read_csv('MLB_hitters.csv')"
      ],
      "metadata": {
        "id": "cpksjtwFJeG6"
      },
      "execution_count": 4,
      "outputs": []
    },
    {
      "cell_type": "markdown",
      "source": [
        "# Select columns to use for models, and identification columns without WAR metrics ('OPS', 'WAR','runs_br','runs_field', 'bats_R', 'throws_R')"
      ],
      "metadata": {
        "id": "h1rkW_4tT9Jf"
      }
    },
    {
      "cell_type": "code",
      "execution_count": 5,
      "metadata": {
        "colab": {
          "base_uri": "https://localhost:8080/"
        },
        "id": "VbkPKPzS8W5f",
        "outputId": "04d68f6c-7de3-4733-94c9-011622d548a7"
      },
      "outputs": [
        {
          "output_type": "stream",
          "name": "stdout",
          "text": [
            "  nameFirst     nameLast  HoF  Years_Played    H   BB  HR       AVE       OBP  \\\n",
            "0     Frank  Abercrombie  0.0             1    0    0   0  0.000000  0.000000   \n",
            "1       Bob         Addy  0.0             6  341   20   1  0.277011  0.288569   \n",
            "2       Art      Allison  0.0             5  188    5   1  0.253711  0.258713   \n",
            "3        Al       Barker  0.0             1    1    1   0  0.250000  0.400000   \n",
            "4      Ross       Barnes  0.0             9  860  116   6  0.359682  0.389310   \n",
            "\n",
            "   Slug_Percent  ...  1942-45_percent  G_dh_percent  1920-41_percent  \\\n",
            "0      0.000000  ...              0.0           0.0              0.0   \n",
            "1      0.329813  ...              0.0           0.0              0.0   \n",
            "2      0.304993  ...              0.0           0.0              0.0   \n",
            "3      0.250000  ...              0.0           0.0              0.0   \n",
            "4      0.467587  ...              0.0           0.0              0.0   \n",
            "\n",
            "   G_ss_percent  post2009_percent  1977-92_percent  G_2b_percent  \\\n",
            "0      1.000000               0.0              0.0      0.000000   \n",
            "1      0.014599               0.0              0.0      0.288321   \n",
            "2      0.000000               0.0              0.0      0.023810   \n",
            "3      0.000000               0.0              0.0      0.000000   \n",
            "4      0.282565               0.0              0.0      0.693387   \n",
            "\n",
            "   G_3b_percent  G_of_percent  pre1920_percent  \n",
            "0      0.000000      0.000000              1.0  \n",
            "1      0.018248      0.686131              1.0  \n",
            "2      0.000000      0.785714              1.0  \n",
            "3      0.000000      1.000000              1.0  \n",
            "4      0.026052      0.008016              1.0  \n",
            "\n",
            "[5 rows x 43 columns]\n"
          ]
        }
      ],
      "source": [
        "# Select columns to use for models, and identification columns without WAR metrics\n",
        "num_cols_hitters = ['nameFirst', 'nameLast', 'HoF', 'Years_Played', 'H', 'BB', 'HR', 'AVE',\n",
        "                    'OBP', 'Slug_Percent', 'OPS','RBI','R', 'SB', '2B',\n",
        "                    '3B', 'AB', 'SO', 'Most Valuable Player', 'World Series MVP', 'AS_games','Gold Glove',\n",
        "                    'Rookie of the Year', 'Silver Slugger', 'DPf', 'Af', 'Ef', 'YSLS', 'G_all',\n",
        "                    '1963-76_percent', '1993-2009_percent', '1946-62_percent', 'G_1b_percent', '1942-45_percent',\n",
        "                    'G_dh_percent', '1920-41_percent', 'G_ss_percent','post2009_percent', '1977-92_percent', 'G_2b_percent',\n",
        "                    'G_3b_percent','G_of_percent', 'pre1920_percent']\n",
        "\n",
        "# Create a new DataFrame (`data`) from the `df_hitters` using the columns above\n",
        "data = df_hitters[num_cols_hitters]\n",
        "#data_act = df_eligible[num_cols_hitters]\n",
        "\n",
        "# Return the first rows of `data`\n",
        "print(data.head())\n",
        "\n",
        "#'OPS', 'WAR','runs_br','runs_field', 'bats_R', 'throws_R'"
      ]
    },
    {
      "cell_type": "code",
      "source": [
        "'''\n",
        "# Select columns to use for models, and identification columns\n",
        "num_cols_hitters = ['nameFirst', 'nameLast', 'HoF', 'Years_Played', 'H', 'BB', 'HR', 'AVE',\n",
        "                    'OBP', 'Slug_Percent', 'OPS', 'WAR','runs_br','runs_field', 'RBI','R', 'SB', '2B',\n",
        "                    '3B', 'AB', 'SO', 'Most Valuable Player', 'World Series MVP', 'AS_games','Gold Glove',\n",
        "                    'Rookie of the Year', 'Silver Slugger', 'bats_R', 'throws_R', 'DPf', 'Af', 'Ef', 'YSLS', 'G_all',\n",
        "                    '1963-76_percent', '1993-2009_percent', '1946-62_percent', 'G_1b_percent', '1942-45_percent',\n",
        "                    'G_dh_percent', '1920-41_percent', 'G_ss_percent','post2009_percent', '1977-92_percent', 'G_2b_percent',\n",
        "                    'G_3b_percent','G_of_percent', 'pre1920_percent']\n",
        "\n",
        "# Create a new DataFrame (`data`) from the `df_hitters` using the columns above\n",
        "data = df_hitters[num_cols_hitters]\n",
        "#data_act = df_eligible[num_cols_hitters]\n",
        "\n",
        "# Return the first rows of `data`\n",
        "print(data.head())\n",
        "'''"
      ],
      "metadata": {
        "colab": {
          "base_uri": "https://localhost:8080/",
          "height": 105
        },
        "id": "40sThjOOD1cs",
        "outputId": "93dd203f-f1f4-4ac8-b28f-054f18dcb6ac"
      },
      "execution_count": 6,
      "outputs": [
        {
          "output_type": "execute_result",
          "data": {
            "text/plain": [
              "\"\\n# Select columns to use for models, and identification columns\\nnum_cols_hitters = ['nameFirst', 'nameLast', 'HoF', 'Years_Played', 'H', 'BB', 'HR', 'AVE',\\n                    'OBP', 'Slug_Percent', 'OPS', 'WAR','runs_br','runs_field', 'RBI','R', 'SB', '2B',\\n                    '3B', 'AB', 'SO', 'Most Valuable Player', 'World Series MVP', 'AS_games','Gold Glove',\\n                    'Rookie of the Year', 'Silver Slugger', 'bats_R', 'throws_R', 'DPf', 'Af', 'Ef', 'YSLS', 'G_all',\\n                    '1963-76_percent', '1993-2009_percent', '1946-62_percent', 'G_1b_percent', '1942-45_percent',\\n                    'G_dh_percent', '1920-41_percent', 'G_ss_percent','post2009_percent', '1977-92_percent', 'G_2b_percent',\\n                    'G_3b_percent','G_of_percent', 'pre1920_percent']\\n\\n# Create a new DataFrame (`data`) from the `df_hitters` using the columns above\\ndata = df_hitters[num_cols_hitters]\\n#data_act = df_eligible[num_cols_hitters]\\n\\n# Return the first rows of `data`\\nprint(data.head())\\n\""
            ],
            "application/vnd.google.colaboratory.intrinsic+json": {
              "type": "string"
            }
          },
          "metadata": {},
          "execution_count": 6
        }
      ]
    },
    {
      "cell_type": "code",
      "execution_count": 7,
      "metadata": {
        "colab": {
          "base_uri": "https://localhost:8080/"
        },
        "id": "2-G_rJdgjfQd",
        "outputId": "e8a2cc71-58e9-47f9-d968-ff4f35c3202e"
      },
      "outputs": [
        {
          "output_type": "stream",
          "name": "stdout",
          "text": [
            "<class 'pandas.core.frame.DataFrame'>\n",
            "RangeIndex: 6644 entries, 0 to 6643\n",
            "Data columns (total 43 columns):\n",
            " #   Column                Non-Null Count  Dtype  \n",
            "---  ------                --------------  -----  \n",
            " 0   nameFirst             6644 non-null   object \n",
            " 1   nameLast              6644 non-null   object \n",
            " 2   HoF                   6644 non-null   float64\n",
            " 3   Years_Played          6644 non-null   int64  \n",
            " 4   H                     6644 non-null   int64  \n",
            " 5   BB                    6644 non-null   int64  \n",
            " 6   HR                    6644 non-null   int64  \n",
            " 7   AVE                   6644 non-null   float64\n",
            " 8   OBP                   6644 non-null   float64\n",
            " 9   Slug_Percent          6644 non-null   float64\n",
            " 10  OPS                   6644 non-null   float64\n",
            " 11  RBI                   6644 non-null   float64\n",
            " 12  R                     6644 non-null   int64  \n",
            " 13  SB                    6644 non-null   float64\n",
            " 14  2B                    6644 non-null   int64  \n",
            " 15  3B                    6644 non-null   int64  \n",
            " 16  AB                    6644 non-null   int64  \n",
            " 17  SO                    6644 non-null   float64\n",
            " 18  Most Valuable Player  6644 non-null   float64\n",
            " 19  World Series MVP      6644 non-null   float64\n",
            " 20  AS_games              6644 non-null   float64\n",
            " 21  Gold Glove            6644 non-null   float64\n",
            " 22  Rookie of the Year    6644 non-null   float64\n",
            " 23  Silver Slugger        6644 non-null   float64\n",
            " 24  DPf                   6644 non-null   float64\n",
            " 25  Af                    6644 non-null   float64\n",
            " 26  Ef                    6644 non-null   float64\n",
            " 27  YSLS                  6644 non-null   float64\n",
            " 28  G_all                 6644 non-null   int64  \n",
            " 29  1963-76_percent       6644 non-null   float64\n",
            " 30  1993-2009_percent     6644 non-null   float64\n",
            " 31  1946-62_percent       6644 non-null   float64\n",
            " 32  G_1b_percent          6644 non-null   float64\n",
            " 33  1942-45_percent       6644 non-null   float64\n",
            " 34  G_dh_percent          6644 non-null   float64\n",
            " 35  1920-41_percent       6644 non-null   float64\n",
            " 36  G_ss_percent          6644 non-null   float64\n",
            " 37  post2009_percent      6644 non-null   float64\n",
            " 38  1977-92_percent       6644 non-null   float64\n",
            " 39  G_2b_percent          6644 non-null   float64\n",
            " 40  G_3b_percent          6644 non-null   float64\n",
            " 41  G_of_percent          6644 non-null   float64\n",
            " 42  pre1920_percent       6644 non-null   float64\n",
            "dtypes: float64(32), int64(9), object(2)\n",
            "memory usage: 2.2+ MB\n"
          ]
        }
      ],
      "source": [
        "data.info()"
      ]
    },
    {
      "cell_type": "code",
      "source": [
        "# Save data as a backup: data2\n",
        "#data2 = df_hitters2"
      ],
      "metadata": {
        "id": "Q6E0JjsSPHIF"
      },
      "execution_count": 8,
      "outputs": []
    },
    {
      "cell_type": "code",
      "source": [
        "#data2.head()"
      ],
      "metadata": {
        "id": "QGLYSHJhPQoi"
      },
      "execution_count": 9,
      "outputs": []
    },
    {
      "cell_type": "markdown",
      "metadata": {
        "id": "uarPJkIMwqPa"
      },
      "source": []
    },
    {
      "cell_type": "code",
      "execution_count": 10,
      "metadata": {
        "colab": {
          "base_uri": "https://localhost:8080/"
        },
        "id": "sUV3-mQR82UP",
        "outputId": "c3771104-7f33-49d3-d7d6-2f3a74b96d15"
      },
      "outputs": [
        {
          "output_type": "stream",
          "name": "stdout",
          "text": [
            "6644\n",
            "70\n"
          ]
        }
      ],
      "source": [
        "# Print length of `data`\n",
        "print(len(data))\n",
        "\n",
        "# Print how many Hall of Fame members are in data\n",
        "print(len(data[data['HoF'] == 1]))"
      ]
    },
    {
      "cell_type": "code",
      "source": [
        "'''\n",
        "# Print length of `data`\n",
        "print(len(data_act))\n",
        "\n",
        "# Print how many Hall of Fame members are in data\n",
        "print(len(data_act[data_act['HoF'] == 1]))\n",
        "'''"
      ],
      "metadata": {
        "colab": {
          "base_uri": "https://localhost:8080/",
          "height": 35
        },
        "id": "IXT7Lw1A7p2u",
        "outputId": "1802962c-4849-4777-b731-e9d5be0b4880"
      },
      "execution_count": 11,
      "outputs": [
        {
          "output_type": "execute_result",
          "data": {
            "text/plain": [
              "\"\\n# Print length of `data`\\nprint(len(data_act))\\n\\n# Print how many Hall of Fame members are in data\\nprint(len(data_act[data_act['HoF'] == 1]))\\n\""
            ],
            "application/vnd.google.colaboratory.intrinsic+json": {
              "type": "string"
            }
          },
          "metadata": {},
          "execution_count": 11
        }
      ]
    },
    {
      "cell_type": "code",
      "source": [
        "data.head()"
      ],
      "metadata": {
        "colab": {
          "base_uri": "https://localhost:8080/",
          "height": 317
        },
        "id": "-5MiM3kruDlu",
        "outputId": "8d41beb2-121e-4f2d-aec0-8bd870dbf2e1"
      },
      "execution_count": 12,
      "outputs": [
        {
          "output_type": "execute_result",
          "data": {
            "text/plain": [
              "  nameFirst     nameLast  HoF  Years_Played    H   BB  HR       AVE       OBP  \\\n",
              "0     Frank  Abercrombie  0.0             1    0    0   0  0.000000  0.000000   \n",
              "1       Bob         Addy  0.0             6  341   20   1  0.277011  0.288569   \n",
              "2       Art      Allison  0.0             5  188    5   1  0.253711  0.258713   \n",
              "3        Al       Barker  0.0             1    1    1   0  0.250000  0.400000   \n",
              "4      Ross       Barnes  0.0             9  860  116   6  0.359682  0.389310   \n",
              "\n",
              "   Slug_Percent  ...  1942-45_percent  G_dh_percent  1920-41_percent  \\\n",
              "0      0.000000  ...              0.0           0.0              0.0   \n",
              "1      0.329813  ...              0.0           0.0              0.0   \n",
              "2      0.304993  ...              0.0           0.0              0.0   \n",
              "3      0.250000  ...              0.0           0.0              0.0   \n",
              "4      0.467587  ...              0.0           0.0              0.0   \n",
              "\n",
              "   G_ss_percent  post2009_percent  1977-92_percent  G_2b_percent  \\\n",
              "0      1.000000               0.0              0.0      0.000000   \n",
              "1      0.014599               0.0              0.0      0.288321   \n",
              "2      0.000000               0.0              0.0      0.023810   \n",
              "3      0.000000               0.0              0.0      0.000000   \n",
              "4      0.282565               0.0              0.0      0.693387   \n",
              "\n",
              "   G_3b_percent  G_of_percent  pre1920_percent  \n",
              "0      0.000000      0.000000              1.0  \n",
              "1      0.018248      0.686131              1.0  \n",
              "2      0.000000      0.785714              1.0  \n",
              "3      0.000000      1.000000              1.0  \n",
              "4      0.026052      0.008016              1.0  \n",
              "\n",
              "[5 rows x 43 columns]"
            ],
            "text/html": [
              "\n",
              "  <div id=\"df-8789cee2-b37a-41a1-983f-d681cf4d3604\">\n",
              "    <div class=\"colab-df-container\">\n",
              "      <div>\n",
              "<style scoped>\n",
              "    .dataframe tbody tr th:only-of-type {\n",
              "        vertical-align: middle;\n",
              "    }\n",
              "\n",
              "    .dataframe tbody tr th {\n",
              "        vertical-align: top;\n",
              "    }\n",
              "\n",
              "    .dataframe thead th {\n",
              "        text-align: right;\n",
              "    }\n",
              "</style>\n",
              "<table border=\"1\" class=\"dataframe\">\n",
              "  <thead>\n",
              "    <tr style=\"text-align: right;\">\n",
              "      <th></th>\n",
              "      <th>nameFirst</th>\n",
              "      <th>nameLast</th>\n",
              "      <th>HoF</th>\n",
              "      <th>Years_Played</th>\n",
              "      <th>H</th>\n",
              "      <th>BB</th>\n",
              "      <th>HR</th>\n",
              "      <th>AVE</th>\n",
              "      <th>OBP</th>\n",
              "      <th>Slug_Percent</th>\n",
              "      <th>...</th>\n",
              "      <th>1942-45_percent</th>\n",
              "      <th>G_dh_percent</th>\n",
              "      <th>1920-41_percent</th>\n",
              "      <th>G_ss_percent</th>\n",
              "      <th>post2009_percent</th>\n",
              "      <th>1977-92_percent</th>\n",
              "      <th>G_2b_percent</th>\n",
              "      <th>G_3b_percent</th>\n",
              "      <th>G_of_percent</th>\n",
              "      <th>pre1920_percent</th>\n",
              "    </tr>\n",
              "  </thead>\n",
              "  <tbody>\n",
              "    <tr>\n",
              "      <th>0</th>\n",
              "      <td>Frank</td>\n",
              "      <td>Abercrombie</td>\n",
              "      <td>0.0</td>\n",
              "      <td>1</td>\n",
              "      <td>0</td>\n",
              "      <td>0</td>\n",
              "      <td>0</td>\n",
              "      <td>0.000000</td>\n",
              "      <td>0.000000</td>\n",
              "      <td>0.000000</td>\n",
              "      <td>...</td>\n",
              "      <td>0.0</td>\n",
              "      <td>0.0</td>\n",
              "      <td>0.0</td>\n",
              "      <td>1.000000</td>\n",
              "      <td>0.0</td>\n",
              "      <td>0.0</td>\n",
              "      <td>0.000000</td>\n",
              "      <td>0.000000</td>\n",
              "      <td>0.000000</td>\n",
              "      <td>1.0</td>\n",
              "    </tr>\n",
              "    <tr>\n",
              "      <th>1</th>\n",
              "      <td>Bob</td>\n",
              "      <td>Addy</td>\n",
              "      <td>0.0</td>\n",
              "      <td>6</td>\n",
              "      <td>341</td>\n",
              "      <td>20</td>\n",
              "      <td>1</td>\n",
              "      <td>0.277011</td>\n",
              "      <td>0.288569</td>\n",
              "      <td>0.329813</td>\n",
              "      <td>...</td>\n",
              "      <td>0.0</td>\n",
              "      <td>0.0</td>\n",
              "      <td>0.0</td>\n",
              "      <td>0.014599</td>\n",
              "      <td>0.0</td>\n",
              "      <td>0.0</td>\n",
              "      <td>0.288321</td>\n",
              "      <td>0.018248</td>\n",
              "      <td>0.686131</td>\n",
              "      <td>1.0</td>\n",
              "    </tr>\n",
              "    <tr>\n",
              "      <th>2</th>\n",
              "      <td>Art</td>\n",
              "      <td>Allison</td>\n",
              "      <td>0.0</td>\n",
              "      <td>5</td>\n",
              "      <td>188</td>\n",
              "      <td>5</td>\n",
              "      <td>1</td>\n",
              "      <td>0.253711</td>\n",
              "      <td>0.258713</td>\n",
              "      <td>0.304993</td>\n",
              "      <td>...</td>\n",
              "      <td>0.0</td>\n",
              "      <td>0.0</td>\n",
              "      <td>0.0</td>\n",
              "      <td>0.000000</td>\n",
              "      <td>0.0</td>\n",
              "      <td>0.0</td>\n",
              "      <td>0.023810</td>\n",
              "      <td>0.000000</td>\n",
              "      <td>0.785714</td>\n",
              "      <td>1.0</td>\n",
              "    </tr>\n",
              "    <tr>\n",
              "      <th>3</th>\n",
              "      <td>Al</td>\n",
              "      <td>Barker</td>\n",
              "      <td>0.0</td>\n",
              "      <td>1</td>\n",
              "      <td>1</td>\n",
              "      <td>1</td>\n",
              "      <td>0</td>\n",
              "      <td>0.250000</td>\n",
              "      <td>0.400000</td>\n",
              "      <td>0.250000</td>\n",
              "      <td>...</td>\n",
              "      <td>0.0</td>\n",
              "      <td>0.0</td>\n",
              "      <td>0.0</td>\n",
              "      <td>0.000000</td>\n",
              "      <td>0.0</td>\n",
              "      <td>0.0</td>\n",
              "      <td>0.000000</td>\n",
              "      <td>0.000000</td>\n",
              "      <td>1.000000</td>\n",
              "      <td>1.0</td>\n",
              "    </tr>\n",
              "    <tr>\n",
              "      <th>4</th>\n",
              "      <td>Ross</td>\n",
              "      <td>Barnes</td>\n",
              "      <td>0.0</td>\n",
              "      <td>9</td>\n",
              "      <td>860</td>\n",
              "      <td>116</td>\n",
              "      <td>6</td>\n",
              "      <td>0.359682</td>\n",
              "      <td>0.389310</td>\n",
              "      <td>0.467587</td>\n",
              "      <td>...</td>\n",
              "      <td>0.0</td>\n",
              "      <td>0.0</td>\n",
              "      <td>0.0</td>\n",
              "      <td>0.282565</td>\n",
              "      <td>0.0</td>\n",
              "      <td>0.0</td>\n",
              "      <td>0.693387</td>\n",
              "      <td>0.026052</td>\n",
              "      <td>0.008016</td>\n",
              "      <td>1.0</td>\n",
              "    </tr>\n",
              "  </tbody>\n",
              "</table>\n",
              "<p>5 rows × 43 columns</p>\n",
              "</div>\n",
              "      <button class=\"colab-df-convert\" onclick=\"convertToInteractive('df-8789cee2-b37a-41a1-983f-d681cf4d3604')\"\n",
              "              title=\"Convert this dataframe to an interactive table.\"\n",
              "              style=\"display:none;\">\n",
              "        \n",
              "  <svg xmlns=\"http://www.w3.org/2000/svg\" height=\"24px\"viewBox=\"0 0 24 24\"\n",
              "       width=\"24px\">\n",
              "    <path d=\"M0 0h24v24H0V0z\" fill=\"none\"/>\n",
              "    <path d=\"M18.56 5.44l.94 2.06.94-2.06 2.06-.94-2.06-.94-.94-2.06-.94 2.06-2.06.94zm-11 1L8.5 8.5l.94-2.06 2.06-.94-2.06-.94L8.5 2.5l-.94 2.06-2.06.94zm10 10l.94 2.06.94-2.06 2.06-.94-2.06-.94-.94-2.06-.94 2.06-2.06.94z\"/><path d=\"M17.41 7.96l-1.37-1.37c-.4-.4-.92-.59-1.43-.59-.52 0-1.04.2-1.43.59L10.3 9.45l-7.72 7.72c-.78.78-.78 2.05 0 2.83L4 21.41c.39.39.9.59 1.41.59.51 0 1.02-.2 1.41-.59l7.78-7.78 2.81-2.81c.8-.78.8-2.07 0-2.86zM5.41 20L4 18.59l7.72-7.72 1.47 1.35L5.41 20z\"/>\n",
              "  </svg>\n",
              "      </button>\n",
              "      \n",
              "  <style>\n",
              "    .colab-df-container {\n",
              "      display:flex;\n",
              "      flex-wrap:wrap;\n",
              "      gap: 12px;\n",
              "    }\n",
              "\n",
              "    .colab-df-convert {\n",
              "      background-color: #E8F0FE;\n",
              "      border: none;\n",
              "      border-radius: 50%;\n",
              "      cursor: pointer;\n",
              "      display: none;\n",
              "      fill: #1967D2;\n",
              "      height: 32px;\n",
              "      padding: 0 0 0 0;\n",
              "      width: 32px;\n",
              "    }\n",
              "\n",
              "    .colab-df-convert:hover {\n",
              "      background-color: #E2EBFA;\n",
              "      box-shadow: 0px 1px 2px rgba(60, 64, 67, 0.3), 0px 1px 3px 1px rgba(60, 64, 67, 0.15);\n",
              "      fill: #174EA6;\n",
              "    }\n",
              "\n",
              "    [theme=dark] .colab-df-convert {\n",
              "      background-color: #3B4455;\n",
              "      fill: #D2E3FC;\n",
              "    }\n",
              "\n",
              "    [theme=dark] .colab-df-convert:hover {\n",
              "      background-color: #434B5C;\n",
              "      box-shadow: 0px 1px 3px 1px rgba(0, 0, 0, 0.15);\n",
              "      filter: drop-shadow(0px 1px 2px rgba(0, 0, 0, 0.3));\n",
              "      fill: #FFFFFF;\n",
              "    }\n",
              "  </style>\n",
              "\n",
              "      <script>\n",
              "        const buttonEl =\n",
              "          document.querySelector('#df-8789cee2-b37a-41a1-983f-d681cf4d3604 button.colab-df-convert');\n",
              "        buttonEl.style.display =\n",
              "          google.colab.kernel.accessAllowed ? 'block' : 'none';\n",
              "\n",
              "        async function convertToInteractive(key) {\n",
              "          const element = document.querySelector('#df-8789cee2-b37a-41a1-983f-d681cf4d3604');\n",
              "          const dataTable =\n",
              "            await google.colab.kernel.invokeFunction('convertToInteractive',\n",
              "                                                     [key], {});\n",
              "          if (!dataTable) return;\n",
              "\n",
              "          const docLinkHtml = 'Like what you see? Visit the ' +\n",
              "            '<a target=\"_blank\" href=https://colab.research.google.com/notebooks/data_table.ipynb>data table notebook</a>'\n",
              "            + ' to learn more about interactive tables.';\n",
              "          element.innerHTML = '';\n",
              "          dataTable['output_type'] = 'display_data';\n",
              "          await google.colab.output.renderOutput(dataTable, element);\n",
              "          const docLink = document.createElement('div');\n",
              "          docLink.innerHTML = docLinkHtml;\n",
              "          element.appendChild(docLink);\n",
              "        }\n",
              "      </script>\n",
              "    </div>\n",
              "  </div>\n",
              "  "
            ]
          },
          "metadata": {},
          "execution_count": 12
        }
      ]
    },
    {
      "cell_type": "code",
      "execution_count": 13,
      "metadata": {
        "id": "LoD7Lcair-sN"
      },
      "outputs": [],
      "source": [
        "X = data.copy()"
      ]
    },
    {
      "cell_type": "code",
      "execution_count": 14,
      "metadata": {
        "id": "Wrtz69UB9WJO"
      },
      "outputs": [],
      "source": [
        "# Set a random state\n",
        "rs= 42\n",
        "\n",
        "# Create `target` Series\n",
        "target = data['HoF']\n",
        "\n",
        "# Create `features` DataFrame\n",
        "feature = data.copy()\n",
        "feature = data.drop(['nameFirst', 'nameLast','HoF'], axis=1)\n"
      ]
    },
    {
      "cell_type": "markdown",
      "source": [
        "# Check Data Imbalance"
      ],
      "metadata": {
        "id": "9cZdrhmDJ14u"
      }
    },
    {
      "cell_type": "code",
      "source": [
        "# Count the target value\n",
        "target.value_counts()"
      ],
      "metadata": {
        "colab": {
          "base_uri": "https://localhost:8080/"
        },
        "id": "EOS2WGutkxe-",
        "outputId": "1748f6dd-cf73-46bd-a9cd-5628f996a5dc"
      },
      "execution_count": 15,
      "outputs": [
        {
          "output_type": "execute_result",
          "data": {
            "text/plain": [
              "0.0    6574\n",
              "1.0      70\n",
              "Name: HoF, dtype: int64"
            ]
          },
          "metadata": {},
          "execution_count": 15
        }
      ]
    },
    {
      "cell_type": "code",
      "source": [
        "# Show pie plot\n",
        "target.value_counts().plot.pie(autopct='%.2f')"
      ],
      "metadata": {
        "colab": {
          "base_uri": "https://localhost:8080/",
          "height": 423
        },
        "id": "O9-3n2zclBh2",
        "outputId": "e5fe6fd9-c902-4004-ba2a-37a5c0a64bba"
      },
      "execution_count": 16,
      "outputs": [
        {
          "output_type": "execute_result",
          "data": {
            "text/plain": [
              "<Axes: ylabel='HoF'>"
            ]
          },
          "metadata": {},
          "execution_count": 16
        },
        {
          "output_type": "display_data",
          "data": {
            "text/plain": [
              "<Figure size 640x480 with 1 Axes>"
            ],
            "image/png": "[encoded data removed]"
          },
          "metadata": {}
        }
      ]
    },
    {
      "cell_type": "code",
      "source": [
        "# Random Oversampling\n",
        "\n",
        "from imblearn.over_sampling import RandomOverSampler # Float\n",
        "ros = RandomOverSampler (sampling_strategy=\"not majority\") # String\n",
        "X_res, y_res = ros.fit_resample (feature, target)\n",
        "\n",
        "ax = y_res.value_counts().plot.pie(autopct='%.2f')\n",
        "_ = ax.set_title(\"Over-sampling\")"
      ],
      "metadata": {
        "colab": {
          "base_uri": "https://localhost:8080/",
          "height": 428
        },
        "id": "-jJeTTjMl20P",
        "outputId": "d5c46227-0934-43b4-cf3e-a890a44a5001"
      },
      "execution_count": 17,
      "outputs": [
        {
          "output_type": "display_data",
          "data": {
            "text/plain": [
              "<Figure size 640x480 with 1 Axes>"
            ],
            "image/png": "[encoded data removed]"
          },
          "metadata": {}
        }
      ]
    },
    {
      "cell_type": "code",
      "source": [
        "# Count the oversampled target value\n",
        "y_res.value_counts()"
      ],
      "metadata": {
        "colab": {
          "base_uri": "https://localhost:8080/"
        },
        "id": "NurC12-Xmd3g",
        "outputId": "55a19bbc-8b69-4b5c-ce6e-b9e1e1087b16"
      },
      "execution_count": 18,
      "outputs": [
        {
          "output_type": "execute_result",
          "data": {
            "text/plain": [
              "0.0    6574\n",
              "1.0    6574\n",
              "Name: HoF, dtype: int64"
            ]
          },
          "metadata": {},
          "execution_count": 18
        }
      ]
    },
    {
      "cell_type": "code",
      "source": [
        "# Split the re-sampled data and train\n",
        "X_res_train, X_res_test, y_res_train, y_res_test = train_test_split(X_res,y_res, test_size = 0.3, random_state = rs)"
      ],
      "metadata": {
        "id": "DQEGDaCIm-Hu"
      },
      "execution_count": 19,
      "outputs": []
    },
    {
      "cell_type": "code",
      "execution_count": 20,
      "metadata": {
        "colab": {
          "base_uri": "https://localhost:8080/"
        },
        "id": "e7ohOl5YhBve",
        "outputId": "c259822e-cb08-4ff8-b8cb-abf1846d1943"
      },
      "outputs": [
        {
          "output_type": "execute_result",
          "data": {
            "text/plain": [
              "0.9896070975918885"
            ]
          },
          "metadata": {},
          "execution_count": 20
        }
      ],
      "source": [
        "# Creating Logistic Regression model\n",
        "model = LogisticRegression(random_state = rs)\n",
        "model.fit(X_res_train, y_res_train)\n",
        "model.score(X_res_test, y_res_test)"
      ]
    },
    {
      "cell_type": "code",
      "execution_count": 21,
      "metadata": {
        "id": "IW7o8OlIftdA"
      },
      "outputs": [],
      "source": [
        "# Load packages for Random Forest\n",
        "from sklearn.ensemble import RandomForestClassifier\n",
        "from sklearn import metrics\n",
        "from sklearn.metrics import accuracy_score, confusion_matrix, classification_report\n",
        "from sklearn.inspection import permutation_importance"
      ]
    },
    {
      "cell_type": "code",
      "execution_count": 22,
      "metadata": {
        "colab": {
          "base_uri": "https://localhost:8080/",
          "height": 75
        },
        "id": "jFkg3B2XeS_A",
        "outputId": "473fb083-c132-4fe1-8d26-59cd263c2450"
      },
      "outputs": [
        {
          "output_type": "execute_result",
          "data": {
            "text/plain": [
              "RandomForestClassifier(n_estimators=1000, random_state=42)"
            ],
            "text/html": [
              "<style>#sk-container-id-1 {color: black;background-color: white;}#sk-container-id-1 pre{padding: 0;}#sk-container-id-1 div.sk-toggleable {background-color: white;}#sk-container-id-1 label.sk-toggleable__label {cursor: pointer;display: block;width: 100%;margin-bottom: 0;padding: 0.3em;box-sizing: border-box;text-align: center;}#sk-container-id-1 label.sk-toggleable__label-arrow:before {content: \"▸\";float: left;margin-right: 0.25em;color: #696969;}#sk-container-id-1 label.sk-toggleable__label-arrow:hover:before {color: black;}#sk-container-id-1 div.sk-estimator:hover label.sk-toggleable__label-arrow:before {color: black;}#sk-container-id-1 div.sk-toggleable__content {max-height: 0;max-width: 0;overflow: hidden;text-align: left;background-color: #f0f8ff;}#sk-container-id-1 div.sk-toggleable__content pre {margin: 0.2em;color: black;border-radius: 0.25em;background-color: #f0f8ff;}#sk-container-id-1 input.sk-toggleable__control:checked~div.sk-toggleable__content {max-height: 200px;max-width: 100%;overflow: auto;}#sk-container-id-1 input.sk-toggleable__control:checked~label.sk-toggleable__label-arrow:before {content: \"▾\";}#sk-container-id-1 div.sk-estimator input.sk-toggleable__control:checked~label.sk-toggleable__label {background-color: #d4ebff;}#sk-container-id-1 div.sk-label input.sk-toggleable__control:checked~label.sk-toggleable__label {background-color: #d4ebff;}#sk-container-id-1 input.sk-hidden--visually {border: 0;clip: rect(1px 1px 1px 1px);clip: rect(1px, 1px, 1px, 1px);height: 1px;margin: -1px;overflow: hidden;padding: 0;position: absolute;width: 1px;}#sk-container-id-1 div.sk-estimator {font-family: monospace;background-color: #f0f8ff;border: 1px dotted black;border-radius: 0.25em;box-sizing: border-box;margin-bottom: 0.5em;}#sk-container-id-1 div.sk-estimator:hover {background-color: #d4ebff;}#sk-container-id-1 div.sk-parallel-item::after {content: \"\";width: 100%;border-bottom: 1px solid gray;flex-grow: 1;}#sk-container-id-1 div.sk-label:hover label.sk-toggleable__label {background-color: #d4ebff;}#sk-container-id-1 div.sk-serial::before {content: \"\";position: absolute;border-left: 1px solid gray;box-sizing: border-box;top: 0;bottom: 0;left: 50%;z-index: 0;}#sk-container-id-1 div.sk-serial {display: flex;flex-direction: column;align-items: center;background-color: white;padding-right: 0.2em;padding-left: 0.2em;position: relative;}#sk-container-id-1 div.sk-item {position: relative;z-index: 1;}#sk-container-id-1 div.sk-parallel {display: flex;align-items: stretch;justify-content: center;background-color: white;position: relative;}#sk-container-id-1 div.sk-item::before, #sk-container-id-1 div.sk-parallel-item::before {content: \"\";position: absolute;border-left: 1px solid gray;box-sizing: border-box;top: 0;bottom: 0;left: 50%;z-index: -1;}#sk-container-id-1 div.sk-parallel-item {display: flex;flex-direction: column;z-index: 1;position: relative;background-color: white;}#sk-container-id-1 div.sk-parallel-item:first-child::after {align-self: flex-end;width: 50%;}#sk-container-id-1 div.sk-parallel-item:last-child::after {align-self: flex-start;width: 50%;}#sk-container-id-1 div.sk-parallel-item:only-child::after {width: 0;}#sk-container-id-1 div.sk-dashed-wrapped {border: 1px dashed gray;margin: 0 0.4em 0.5em 0.4em;box-sizing: border-box;padding-bottom: 0.4em;background-color: white;}#sk-container-id-1 div.sk-label label {font-family: monospace;font-weight: bold;display: inline-block;line-height: 1.2em;}#sk-container-id-1 div.sk-label-container {text-align: center;}#sk-container-id-1 div.sk-container {/* jupyter's `normalize.less` sets `[hidden] { display: none; }` but bootstrap.min.css set `[hidden] { display: none !important; }` so we also need the `!important` here to be able to override the default hidden behavior on the sphinx rendered scikit-learn.org. See: https://github.com/scikit-learn/scikit-learn/issues/21755 */display: inline-block !important;position: relative;}#sk-container-id-1 div.sk-text-repr-fallback {display: none;}</style><div id=\"sk-container-id-1\" class=\"sk-top-container\"><div class=\"sk-text-repr-fallback\"><pre>RandomForestClassifier(n_estimators=1000, random_state=42)</pre><b>In a Jupyter environment, please rerun this cell to show the HTML representation or trust the notebook. <br />On GitHub, the HTML representation is unable to render, please try loading this page with nbviewer.org.</b></div><div class=\"sk-container\" hidden><div class=\"sk-item\"><div class=\"sk-estimator sk-toggleable\"><input class=\"sk-toggleable__control sk-hidden--visually\" id=\"sk-estimator-id-1\" type=\"checkbox\" checked><label for=\"sk-estimator-id-1\" class=\"sk-toggleable__label sk-toggleable__label-arrow\">RandomForestClassifier</label><div class=\"sk-toggleable__content\"><pre>RandomForestClassifier(n_estimators=1000, random_state=42)</pre></div></div></div></div></div>"
            ]
          },
          "metadata": {},
          "execution_count": 22
        }
      ],
      "source": [
        "# Instantiate a random forest model with 1000 decision trees\n",
        "rf = RandomForestClassifier(n_estimators=1000, min_samples_leaf=1, min_samples_split=2, random_state=42)\n",
        "\n",
        "#Train the model on training data\n",
        "rf.fit(X_res_train, y_res_train)"
      ]
    },
    {
      "cell_type": "code",
      "execution_count": 23,
      "metadata": {
        "id": "WQvbMfEZe4Mh"
      },
      "outputs": [],
      "source": [
        "# Use the forest's predict method on the test data\n",
        "y_res_pred_rf = rf.predict(X_res_test)"
      ]
    },
    {
      "cell_type": "code",
      "execution_count": 24,
      "metadata": {
        "colab": {
          "base_uri": "https://localhost:8080/"
        },
        "id": "UuUilO3bfdmY",
        "outputId": "ceac0c61-4a0a-4bf1-bc80-8b9d260f6b65"
      },
      "outputs": [
        {
          "output_type": "stream",
          "name": "stdout",
          "text": [
            "              precision    recall  f1-score   support\n",
            "\n",
            "         0.0       1.00      1.00      1.00      1995\n",
            "         1.0       1.00      1.00      1.00      1950\n",
            "\n",
            "    accuracy                           1.00      3945\n",
            "   macro avg       1.00      1.00      1.00      3945\n",
            "weighted avg       1.00      1.00      1.00      3945\n",
            "\n",
            "Test Accuracy: 99.9%\n"
          ]
        }
      ],
      "source": [
        "# Print the classification report\n",
        "print(classification_report(y_res_test, y_res_pred_rf))\n",
        "\n",
        "print(\"Test Accuracy: {}%\".format(round(rf.score(X_res_test, y_res_test)*100,2)))"
      ]
    },
    {
      "cell_type": "code",
      "execution_count": 25,
      "metadata": {
        "colab": {
          "base_uri": "https://localhost:8080/"
        },
        "id": "8QSpI18LhiFO",
        "outputId": "06f57c75-16a6-4382-ef5e-918d15982c7a"
      },
      "outputs": [
        {
          "output_type": "stream",
          "name": "stdout",
          "text": [
            "CV accuracy: [0.98371336 0.98479913 0.99131379 0.99021739 0.98804348 0.99673913\n",
            " 0.99130435 0.98804348 0.98804348 0.99021739]\n",
            "CV accuracy range: 0.989 +/- 0.003\n"
          ]
        }
      ],
      "source": [
        "# cross-validation\n",
        "scores = cross_val_score(estimator = model, X = X_res_train, y = y_res_train, cv = 10)\n",
        "print('CV accuracy: %s' % scores)\n",
        "print('CV accuracy range: %.3f +/- %.3f' % (np.mean(scores), np.std(scores)))"
      ]
    },
    {
      "cell_type": "code",
      "source": [],
      "metadata": {
        "id": "yrSTjL87UuYG"
      },
      "execution_count": null,
      "outputs": []
    }
  ],
  "metadata": {
    "colab": {
      "provenance": []
    },
    "kernelspec": {
      "display_name": "Python 3",
      "name": "python3"
    },
    "language_info": {
      "name": "python"
    }
  },
  "nbformat": 4,
  "nbformat_minor": 0
}